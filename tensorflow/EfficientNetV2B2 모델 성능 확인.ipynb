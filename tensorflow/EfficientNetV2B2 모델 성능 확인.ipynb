{
 "cells": [
  {
   "cell_type": "code",
   "execution_count": 7,
   "id": "9115f140-bbce-4dad-aeb9-fe93f915c419",
   "metadata": {},
   "outputs": [],
   "source": [
    "import os\n",
    "import pandas as pd\n",
    "import numpy as np\n",
    "from tensorflow.keras.preprocessing.image import ImageDataGenerator\n",
    "from tensorflow.keras.applications import EfficientNetV2B2\n",
    "from tensorflow.keras.applications.efficientnet_v2 import preprocess_input\n",
    "from tensorflow.keras import layers, models\n",
    "from tensorflow.keras.models import Sequential\n"
   ]
  },
  {
   "cell_type": "code",
   "execution_count": 8,
   "id": "a235c87a-8f54-468b-bb19-8cd196c08be2",
   "metadata": {},
   "outputs": [],
   "source": [
    "# 1. 클래스 수 정의\n",
    "num_classes = 7\n",
    "class_names = ['Andesite', 'Basalt', 'Etc', 'Gneiss', 'Granite', 'Mud_Sandstone', 'Weathered_Rock']\n",
    "\n",
    "# 2. 모델 정의 및 가중치 로드\n",
    "model = Sequential([\n",
    "    EfficientNetV2B2(include_top=False, input_shape=(224, 224, 3), pooling='avg', weights='imagenet'),\n",
    "    layers.Dropout(0.3),\n",
    "    layers.Dense(num_classes, activation='softmax')\n",
    "])\n",
    "model.load_weights('./checkpoints/model_epoch_3.weights.h5')\n"
   ]
  },
  {
   "cell_type": "code",
   "execution_count": 9,
   "id": "abe82708-9747-4e4e-8009-c12e1388715c",
   "metadata": {},
   "outputs": [
    {
     "name": "stdout",
     "output_type": "stream",
     "text": [
      "Found 95006 validated image filenames.\n"
     ]
    }
   ],
   "source": [
    "# 3. test.csv 불러오기\n",
    "test_df = pd.read_csv('open/test.csv')\n",
    "\n",
    "# 4. 경로 보정 (img_path에 open/ 붙이기)\n",
    "test_df['img_path'] = test_df['img_path'].apply(lambda x: os.path.join('open', x))\n",
    "\n",
    "# 5. ImageDataGenerator로 배치 단위 이미지 로딩\n",
    "test_datagen = ImageDataGenerator(preprocessing_function=preprocess_input)\n",
    "\n",
    "test_generator = test_datagen.flow_from_dataframe(\n",
    "    dataframe=test_df,\n",
    "    x_col='img_path',\n",
    "    y_col=None,\n",
    "    target_size=(224, 224),\n",
    "    color_mode='rgb',\n",
    "    class_mode=None,\n",
    "    batch_size=32,\n",
    "    shuffle=False\n",
    ")\n"
   ]
  },
  {
   "cell_type": "code",
   "execution_count": 10,
   "id": "bda890da-0e18-4ae8-834a-f16cbb68d82a",
   "metadata": {},
   "outputs": [
    {
     "name": "stderr",
     "output_type": "stream",
     "text": [
      "C:\\Users\\FOR\\AppData\\Local\\Programs\\Python\\Python311\\Lib\\site-packages\\keras\\src\\trainers\\data_adapters\\py_dataset_adapter.py:121: UserWarning: Your `PyDataset` class should call `super().__init__(**kwargs)` in its constructor. `**kwargs` can include `workers`, `use_multiprocessing`, `max_queue_size`. Do not pass these arguments to `fit()`, as they will be ignored.\n",
      "  self._warn_if_super_not_called()\n"
     ]
    },
    {
     "name": "stdout",
     "output_type": "stream",
     "text": [
      "\u001b[1m2969/2969\u001b[0m \u001b[32m━━━━━━━━━━━━━━━━━━━━\u001b[0m\u001b[37m\u001b[0m \u001b[1m2799s\u001b[0m 940ms/step\n"
     ]
    }
   ],
   "source": [
    "# 6. 예측 수행\n",
    "preds = model.predict(test_generator, verbose=1)\n",
    "pred_classes = np.argmax(preds, axis=1)\n",
    "pred_labels = [class_names[i] for i in pred_classes]\n"
   ]
  },
  {
   "cell_type": "code",
   "execution_count": 11,
   "id": "152bef0b-b083-4d9c-9e34-0d30b2b84e6a",
   "metadata": {},
   "outputs": [
    {
     "name": "stdout",
     "output_type": "stream",
     "text": [
      "✅ 'submission_EfficientNetV2B2_epoch3.csv' 파일이 성공적으로 생성되었습니다.\n"
     ]
    }
   ],
   "source": [
    "# 7. 결과 저장\n",
    "submission = pd.DataFrame({\n",
    "    'ID': test_df['ID'],\n",
    "    'rock_type': pred_labels\n",
    "})\n",
    "submission.to_csv('submission_EfficientNetV2B2_epoch3.csv', index=False)\n",
    "print(\"✅ 'submission_EfficientNetV2B2_epoch3.csv' 파일이 성공적으로 생성되었습니다.\")\n"
   ]
  }
 ],
 "metadata": {
  "kernelspec": {
   "display_name": "Python 3 (ipykernel)",
   "language": "python",
   "name": "python3"
  },
  "language_info": {
   "codemirror_mode": {
    "name": "ipython",
    "version": 3
   },
   "file_extension": ".py",
   "mimetype": "text/x-python",
   "name": "python",
   "nbconvert_exporter": "python",
   "pygments_lexer": "ipython3",
   "version": "3.11.1"
  }
 },
 "nbformat": 4,
 "nbformat_minor": 5
}
