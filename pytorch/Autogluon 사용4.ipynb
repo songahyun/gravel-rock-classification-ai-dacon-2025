{
 "cells": [
  {
   "cell_type": "markdown",
   "id": "784857b9-112c-48f0-8c9b-1fd5f6b7e048",
   "metadata": {},
   "source": [
    "## Autogluon 4번째 시도"
   ]
  },
  {
   "cell_type": "code",
   "execution_count": 4,
   "id": "02c3193e-23c2-4e25-ac58-8702b8ccc348",
   "metadata": {},
   "outputs": [],
   "source": [
    "from autogluon.multimodal import MultiModalPredictor\n",
    "import pandas as pd\n",
    "from pathlib import Path\n",
    "from sklearn.model_selection import train_test_split\n",
    "import torch\n",
    "import os\n",
    "\n",
    "# 설정\n",
    "train_dir = 'open/train'\n",
    "test_csv_path = 'open/test.csv'\n",
    "output_dir = 'autogluon_output_best4'\n",
    "\n",
    "resume = True  # True로 두면 중단 후 이어서 학습"
   ]
  },
  {
   "cell_type": "code",
   "execution_count": 5,
   "id": "30d18c73-2fe9-4d07-984e-0e4aef5c539d",
   "metadata": {},
   "outputs": [],
   "source": [
    "# 1. 학습 데이터 구성\n",
    "all_img_paths = list(Path(train_dir).rglob(\"*/*.jpg\"))\n",
    "df = pd.DataFrame({'img_path': [str(p) for p in all_img_paths]})\n",
    "df['label'] = df['img_path'].apply(lambda x: Path(x).parent.name)\n",
    "df = df.rename(columns={'img_path': 'image'})  # 컬럼명 변경\n",
    "\n",
    "# 2. 각 폴더에서 7천 장의 데이터를 랜덤 추출\n",
    "df_balanced = pd.DataFrame()\n",
    "for label in df['label'].unique():\n",
    "    label_df = df[df['label'] == label]\n",
    "    label_df_sampled = label_df.sample(n=7000, random_state=41)\n",
    "    df_balanced = pd.concat([df_balanced, label_df_sampled], axis=0)\n",
    "\n",
    "# 3. train/val 분리\n",
    "train_df, val_df = train_test_split(df_balanced, test_size=0.3, stratify=df_balanced['label'], random_state=41)\n",
    "train_df_small = train_df.sample(n=min(49000, len(train_df)), random_state=41)\n",
    "val_df_small = val_df.sample(n=min(15000, len(val_df)), random_state=41)\n",
    "\n",
    "# # 4. GPU 설정\n",
    "# num_gpus = 1 if torch.cuda.is_available() else 0\n"
   ]
  },
  {
   "cell_type": "code",
   "execution_count": 6,
   "id": "f7d0475b-89e4-4223-baf7-b3bcc24d6aa3",
   "metadata": {},
   "outputs": [
    {
     "name": "stdout",
     "output_type": "stream",
     "text": [
      "🆕 새로운 predictor를 생성합니다.\n"
     ]
    }
   ],
   "source": [
    "# 5. 기존 predictor 불러오기 또는 새로 생성\n",
    "\n",
    "if resume and os.path.exists(os.path.join(output_dir, 'predictor.pkl')):\n",
    "    print(\"🔁 이전 학습 결과를 불러옵니다.\")\n",
    "    predictor = MultiModalPredictor.load(output_dir)\n",
    "else:\n",
    "    print(\"🆕 새로운 predictor를 생성합니다.\")\n",
    "    predictor = MultiModalPredictor(\n",
    "        label='label',\n",
    "        problem_type='classification',\n",
    "        eval_metric='accuracy',\n",
    "        path=output_dir\n",
    "    )\n"
   ]
  },
  {
   "cell_type": "code",
   "execution_count": 7,
   "id": "217a0fdf-d79c-4b77-af24-d6464277903b",
   "metadata": {
    "scrolled": true
   },
   "outputs": [
    {
     "name": "stderr",
     "output_type": "stream",
     "text": [
      "=================== System Info ===================\n",
      "AutoGluon Version:  1.3.0\n",
      "Python Version:     3.11.1\n",
      "Operating System:   Windows\n",
      "Platform Machine:   AMD64\n",
      "Platform Version:   10.0.26100\n",
      "CPU Count:          6\n",
      "Pytorch Version:    2.6.0+cu126\n",
      "CUDA Version:       12.6\n",
      "Memory Avail:       15.49 GB / 23.91 GB (64.8%)\n",
      "Disk Space Avail:   34.16 GB / 222.28 GB (15.4%)\n",
      "===================================================\n",
      "AutoGluon infers your prediction problem is: 'multiclass' (because dtype of label-column == object).\n",
      "\t7 unique label values:  ['Andesite', 'Basalt', 'Mud_Sandstone', 'Etc', 'Gneiss', 'Weathered_Rock', 'Granite']\n",
      "\tIf 'multiclass' is not the correct problem_type, please manually specify the problem_type parameter during Predictor init (You may specify problem_type as one of: ['binary', 'multiclass', 'regression', 'quantile'])\n",
      "\n",
      "AutoMM starts to create your model. ✨✨✨\n",
      "\n",
      "To track the learning progress, you can open a terminal and launch Tensorboard:\n",
      "    ```shell\n",
      "    # Assume you have installed tensorboard\n",
      "    tensorboard --logdir C:\\Users\\FOR\\Deep Learning\\autogluon_output_best4\n",
      "    ```\n",
      "\n",
      "Seed set to 0\n",
      "GPU Count: 1\n",
      "GPU Count to be Used: 1\n",
      "\n",
      "Using 16bit Automatic Mixed Precision (AMP)\n",
      "GPU available: True (cuda), used: True\n",
      "TPU available: False, using: 0 TPU cores\n",
      "HPU available: False, using: 0 HPUs\n",
      "LOCAL_RANK: 0 - CUDA_VISIBLE_DEVICES: [0]\n",
      "\n",
      "  | Name              | Type                            | Params | Mode \n",
      "------------------------------------------------------------------------------\n",
      "0 | model             | TimmAutoModelForImagePrediction | 4.2 M  | train\n",
      "1 | validation_metric | MulticlassAccuracy              | 0      | train\n",
      "2 | loss_func         | CrossEntropyLoss                | 0      | train\n",
      "------------------------------------------------------------------------------\n",
      "4.2 M     Trainable params\n",
      "0         Non-trainable params\n",
      "4.2 M     Total params\n",
      "16.844    Total estimated model params size (MB)\n",
      "286       Modules in train mode\n",
      "0         Modules in eval mode\n"
     ]
    },
    {
     "data": {
      "application/vnd.jupyter.widget-view+json": {
       "model_id": "f7f41204522f44a9ac5dd7429f82f628",
       "version_major": 2,
       "version_minor": 0
      },
      "text/plain": [
       "Sanity Checking: |                                                                               | 0/? [00:00<…"
      ]
     },
     "metadata": {},
     "output_type": "display_data"
    },
    {
     "data": {
      "application/vnd.jupyter.widget-view+json": {
       "model_id": "524b0bf27b044f659e364caf8c29a06c",
       "version_major": 2,
       "version_minor": 0
      },
      "text/plain": [
       "Training: |                                                                                      | 0/? [00:00<…"
      ]
     },
     "metadata": {},
     "output_type": "display_data"
    },
    {
     "data": {
      "application/vnd.jupyter.widget-view+json": {
       "model_id": "ab82155cbf154e6d8608b786cd47f41b",
       "version_major": 2,
       "version_minor": 0
      },
      "text/plain": [
       "Validation: |                                                                                    | 0/? [00:00<…"
      ]
     },
     "metadata": {},
     "output_type": "display_data"
    },
    {
     "name": "stderr",
     "output_type": "stream",
     "text": [
      "Epoch 0, global step 134: 'val_accuracy' reached 0.51252 (best 0.51252), saving model to 'C:\\\\Users\\\\FOR\\\\Deep Learning\\\\autogluon_output_best4\\\\epoch=0-step=134.ckpt' as top 3\n"
     ]
    },
    {
     "data": {
      "application/vnd.jupyter.widget-view+json": {
       "model_id": "ab5a5dffc58c4208881d166b1b3e6681",
       "version_major": 2,
       "version_minor": 0
      },
      "text/plain": [
       "Validation: |                                                                                    | 0/? [00:00<…"
      ]
     },
     "metadata": {},
     "output_type": "display_data"
    },
    {
     "name": "stderr",
     "output_type": "stream",
     "text": [
      "Epoch 0, global step 268: 'val_accuracy' reached 0.61463 (best 0.61463), saving model to 'C:\\\\Users\\\\FOR\\\\Deep Learning\\\\autogluon_output_best4\\\\epoch=0-step=268.ckpt' as top 3\n"
     ]
    },
    {
     "data": {
      "application/vnd.jupyter.widget-view+json": {
       "model_id": "1686d56c16c84b029b495191e0c6a567",
       "version_major": 2,
       "version_minor": 0
      },
      "text/plain": [
       "Validation: |                                                                                    | 0/? [00:00<…"
      ]
     },
     "metadata": {},
     "output_type": "display_data"
    },
    {
     "name": "stderr",
     "output_type": "stream",
     "text": [
      "Epoch 1, global step 402: 'val_accuracy' reached 0.65578 (best 0.65578), saving model to 'C:\\\\Users\\\\FOR\\\\Deep Learning\\\\autogluon_output_best4\\\\epoch=1-step=402.ckpt' as top 3\n"
     ]
    },
    {
     "data": {
      "application/vnd.jupyter.widget-view+json": {
       "model_id": "0ad66f2c7d9f4b2fbeadcfbd32e4f8e8",
       "version_major": 2,
       "version_minor": 0
      },
      "text/plain": [
       "Validation: |                                                                                    | 0/? [00:00<…"
      ]
     },
     "metadata": {},
     "output_type": "display_data"
    },
    {
     "name": "stderr",
     "output_type": "stream",
     "text": [
      "Epoch 1, global step 536: 'val_accuracy' reached 0.67898 (best 0.67898), saving model to 'C:\\\\Users\\\\FOR\\\\Deep Learning\\\\autogluon_output_best4\\\\epoch=1-step=536.ckpt' as top 3\n"
     ]
    },
    {
     "data": {
      "application/vnd.jupyter.widget-view+json": {
       "model_id": "b55a86bd050d40ed9af71637015a3ead",
       "version_major": 2,
       "version_minor": 0
      },
      "text/plain": [
       "Validation: |                                                                                    | 0/? [00:00<…"
      ]
     },
     "metadata": {},
     "output_type": "display_data"
    },
    {
     "name": "stderr",
     "output_type": "stream",
     "text": [
      "Epoch 2, global step 670: 'val_accuracy' reached 0.69816 (best 0.69816), saving model to 'C:\\\\Users\\\\FOR\\\\Deep Learning\\\\autogluon_output_best4\\\\epoch=2-step=670.ckpt' as top 3\n"
     ]
    },
    {
     "data": {
      "application/vnd.jupyter.widget-view+json": {
       "model_id": "811c5da45a394a40b38af6be99ef5bf6",
       "version_major": 2,
       "version_minor": 0
      },
      "text/plain": [
       "Validation: |                                                                                    | 0/? [00:00<…"
      ]
     },
     "metadata": {},
     "output_type": "display_data"
    },
    {
     "name": "stderr",
     "output_type": "stream",
     "text": [
      "Epoch 2, global step 804: 'val_accuracy' reached 0.70891 (best 0.70891), saving model to 'C:\\\\Users\\\\FOR\\\\Deep Learning\\\\autogluon_output_best4\\\\epoch=2-step=804.ckpt' as top 3\n"
     ]
    },
    {
     "data": {
      "application/vnd.jupyter.widget-view+json": {
       "model_id": "cbc0de9f503b456e8254f6212c751134",
       "version_major": 2,
       "version_minor": 0
      },
      "text/plain": [
       "Validation: |                                                                                    | 0/? [00:00<…"
      ]
     },
     "metadata": {},
     "output_type": "display_data"
    },
    {
     "name": "stderr",
     "output_type": "stream",
     "text": [
      "Epoch 3, global step 938: 'val_accuracy' reached 0.72000 (best 0.72000), saving model to 'C:\\\\Users\\\\FOR\\\\Deep Learning\\\\autogluon_output_best4\\\\epoch=3-step=938.ckpt' as top 3\n"
     ]
    },
    {
     "data": {
      "application/vnd.jupyter.widget-view+json": {
       "model_id": "893719052de54c4f84e9af8360b64b11",
       "version_major": 2,
       "version_minor": 0
      },
      "text/plain": [
       "Validation: |                                                                                    | 0/? [00:00<…"
      ]
     },
     "metadata": {},
     "output_type": "display_data"
    },
    {
     "name": "stderr",
     "output_type": "stream",
     "text": [
      "Epoch 3, global step 1072: 'val_accuracy' reached 0.73680 (best 0.73680), saving model to 'C:\\\\Users\\\\FOR\\\\Deep Learning\\\\autogluon_output_best4\\\\epoch=3-step=1072.ckpt' as top 3\n"
     ]
    },
    {
     "data": {
      "application/vnd.jupyter.widget-view+json": {
       "model_id": "931540ed728a42eeae46398a0d664e62",
       "version_major": 2,
       "version_minor": 0
      },
      "text/plain": [
       "Validation: |                                                                                    | 0/? [00:00<…"
      ]
     },
     "metadata": {},
     "output_type": "display_data"
    },
    {
     "name": "stderr",
     "output_type": "stream",
     "text": [
      "Epoch 4, global step 1206: 'val_accuracy' reached 0.73728 (best 0.73728), saving model to 'C:\\\\Users\\\\FOR\\\\Deep Learning\\\\autogluon_output_best4\\\\epoch=4-step=1206.ckpt' as top 3\n"
     ]
    },
    {
     "data": {
      "application/vnd.jupyter.widget-view+json": {
       "model_id": "c58e9eecdee04b12a78f4e84eb70052f",
       "version_major": 2,
       "version_minor": 0
      },
      "text/plain": [
       "Validation: |                                                                                    | 0/? [00:00<…"
      ]
     },
     "metadata": {},
     "output_type": "display_data"
    },
    {
     "name": "stderr",
     "output_type": "stream",
     "text": [
      "Epoch 4, global step 1340: 'val_accuracy' reached 0.73109 (best 0.73728), saving model to 'C:\\\\Users\\\\FOR\\\\Deep Learning\\\\autogluon_output_best4\\\\epoch=4-step=1340.ckpt' as top 3\n"
     ]
    },
    {
     "data": {
      "application/vnd.jupyter.widget-view+json": {
       "model_id": "c992caa4b0f842d38ebe53189f158e7d",
       "version_major": 2,
       "version_minor": 0
      },
      "text/plain": [
       "Validation: |                                                                                    | 0/? [00:00<…"
      ]
     },
     "metadata": {},
     "output_type": "display_data"
    },
    {
     "name": "stderr",
     "output_type": "stream",
     "text": [
      "Epoch 5, global step 1474: 'val_accuracy' reached 0.73830 (best 0.73830), saving model to 'C:\\\\Users\\\\FOR\\\\Deep Learning\\\\autogluon_output_best4\\\\epoch=5-step=1474.ckpt' as top 3\n"
     ]
    },
    {
     "data": {
      "application/vnd.jupyter.widget-view+json": {
       "model_id": "c0b80881d5874129bd2371e351bf116f",
       "version_major": 2,
       "version_minor": 0
      },
      "text/plain": [
       "Validation: |                                                                                    | 0/? [00:00<…"
      ]
     },
     "metadata": {},
     "output_type": "display_data"
    },
    {
     "name": "stderr",
     "output_type": "stream",
     "text": [
      "Epoch 5, global step 1608: 'val_accuracy' reached 0.74891 (best 0.74891), saving model to 'C:\\\\Users\\\\FOR\\\\Deep Learning\\\\autogluon_output_best4\\\\epoch=5-step=1608.ckpt' as top 3\n"
     ]
    },
    {
     "data": {
      "application/vnd.jupyter.widget-view+json": {
       "model_id": "8077b267b097462fb33c783ae1377458",
       "version_major": 2,
       "version_minor": 0
      },
      "text/plain": [
       "Validation: |                                                                                    | 0/? [00:00<…"
      ]
     },
     "metadata": {},
     "output_type": "display_data"
    },
    {
     "name": "stderr",
     "output_type": "stream",
     "text": [
      "Epoch 6, global step 1742: 'val_accuracy' reached 0.73905 (best 0.74891), saving model to 'C:\\\\Users\\\\FOR\\\\Deep Learning\\\\autogluon_output_best4\\\\epoch=6-step=1742.ckpt' as top 3\n"
     ]
    },
    {
     "data": {
      "application/vnd.jupyter.widget-view+json": {
       "model_id": "51c7e3879d0645098297aa6859153e4e",
       "version_major": 2,
       "version_minor": 0
      },
      "text/plain": [
       "Validation: |                                                                                    | 0/? [00:00<…"
      ]
     },
     "metadata": {},
     "output_type": "display_data"
    },
    {
     "name": "stderr",
     "output_type": "stream",
     "text": [
      "Epoch 6, global step 1876: 'val_accuracy' reached 0.74435 (best 0.74891), saving model to 'C:\\\\Users\\\\FOR\\\\Deep Learning\\\\autogluon_output_best4\\\\epoch=6-step=1876.ckpt' as top 3\n"
     ]
    },
    {
     "data": {
      "application/vnd.jupyter.widget-view+json": {
       "model_id": "8cb17c4ce3394f568368dc071229b944",
       "version_major": 2,
       "version_minor": 0
      },
      "text/plain": [
       "Validation: |                                                                                    | 0/? [00:00<…"
      ]
     },
     "metadata": {},
     "output_type": "display_data"
    },
    {
     "name": "stderr",
     "output_type": "stream",
     "text": [
      "Epoch 7, global step 2010: 'val_accuracy' reached 0.74299 (best 0.74891), saving model to 'C:\\\\Users\\\\FOR\\\\Deep Learning\\\\autogluon_output_best4\\\\epoch=7-step=2010.ckpt' as top 3\n"
     ]
    },
    {
     "data": {
      "application/vnd.jupyter.widget-view+json": {
       "model_id": "dd056e295c4d442691245335e5b7f038",
       "version_major": 2,
       "version_minor": 0
      },
      "text/plain": [
       "Validation: |                                                                                    | 0/? [00:00<…"
      ]
     },
     "metadata": {},
     "output_type": "display_data"
    },
    {
     "name": "stderr",
     "output_type": "stream",
     "text": [
      "Epoch 7, global step 2144: 'val_accuracy' reached 0.76061 (best 0.76061), saving model to 'C:\\\\Users\\\\FOR\\\\Deep Learning\\\\autogluon_output_best4\\\\epoch=7-step=2144.ckpt' as top 3\n"
     ]
    },
    {
     "data": {
      "application/vnd.jupyter.widget-view+json": {
       "model_id": "858260d4ecf140f7abb824a866c56c6f",
       "version_major": 2,
       "version_minor": 0
      },
      "text/plain": [
       "Validation: |                                                                                    | 0/? [00:00<…"
      ]
     },
     "metadata": {},
     "output_type": "display_data"
    },
    {
     "name": "stderr",
     "output_type": "stream",
     "text": [
      "Epoch 8, global step 2278: 'val_accuracy' reached 0.74796 (best 0.76061), saving model to 'C:\\\\Users\\\\FOR\\\\Deep Learning\\\\autogluon_output_best4\\\\epoch=8-step=2278.ckpt' as top 3\n"
     ]
    },
    {
     "data": {
      "application/vnd.jupyter.widget-view+json": {
       "model_id": "eaf234d4a4094b81b119e0dd40e2940f",
       "version_major": 2,
       "version_minor": 0
      },
      "text/plain": [
       "Validation: |                                                                                    | 0/? [00:00<…"
      ]
     },
     "metadata": {},
     "output_type": "display_data"
    },
    {
     "name": "stderr",
     "output_type": "stream",
     "text": [
      "Epoch 8, global step 2412: 'val_accuracy' reached 0.74918 (best 0.76061), saving model to 'C:\\\\Users\\\\FOR\\\\Deep Learning\\\\autogluon_output_best4\\\\epoch=8-step=2412.ckpt' as top 3\n"
     ]
    },
    {
     "data": {
      "application/vnd.jupyter.widget-view+json": {
       "model_id": "23188b53982540e3b0b14a8d21966316",
       "version_major": 2,
       "version_minor": 0
      },
      "text/plain": [
       "Validation: |                                                                                    | 0/? [00:00<…"
      ]
     },
     "metadata": {},
     "output_type": "display_data"
    },
    {
     "name": "stderr",
     "output_type": "stream",
     "text": [
      "Epoch 9, global step 2546: 'val_accuracy' reached 0.75408 (best 0.76061), saving model to 'C:\\\\Users\\\\FOR\\\\Deep Learning\\\\autogluon_output_best4\\\\epoch=9-step=2546.ckpt' as top 3\n"
     ]
    },
    {
     "data": {
      "application/vnd.jupyter.widget-view+json": {
       "model_id": "c489b7c5d54640ce8685d98b5e356369",
       "version_major": 2,
       "version_minor": 0
      },
      "text/plain": [
       "Validation: |                                                                                    | 0/? [00:00<…"
      ]
     },
     "metadata": {},
     "output_type": "display_data"
    },
    {
     "name": "stderr",
     "output_type": "stream",
     "text": [
      "Epoch 9, global step 2680: 'val_accuracy' reached 0.75932 (best 0.76061), saving model to 'C:\\\\Users\\\\FOR\\\\Deep Learning\\\\autogluon_output_best4\\\\epoch=9-step=2680.ckpt' as top 3\n"
     ]
    },
    {
     "data": {
      "application/vnd.jupyter.widget-view+json": {
       "model_id": "6ab340ddbd8644b9b7389e22e23d8347",
       "version_major": 2,
       "version_minor": 0
      },
      "text/plain": [
       "Validation: |                                                                                    | 0/? [00:00<…"
      ]
     },
     "metadata": {},
     "output_type": "display_data"
    },
    {
     "name": "stderr",
     "output_type": "stream",
     "text": [
      "Epoch 10, global step 2814: 'val_accuracy' was not in top 3\n"
     ]
    },
    {
     "data": {
      "application/vnd.jupyter.widget-view+json": {
       "model_id": "9c8ade28f7e744d795cf93f421d0b1f1",
       "version_major": 2,
       "version_minor": 0
      },
      "text/plain": [
       "Validation: |                                                                                    | 0/? [00:00<…"
      ]
     },
     "metadata": {},
     "output_type": "display_data"
    },
    {
     "name": "stderr",
     "output_type": "stream",
     "text": [
      "Epoch 10, global step 2948: 'val_accuracy' reached 0.75810 (best 0.76061), saving model to 'C:\\\\Users\\\\FOR\\\\Deep Learning\\\\autogluon_output_best4\\\\epoch=10-step=2948.ckpt' as top 3\n"
     ]
    },
    {
     "data": {
      "application/vnd.jupyter.widget-view+json": {
       "model_id": "38eba5ef036e42a39fa34f4cd7ea7b66",
       "version_major": 2,
       "version_minor": 0
      },
      "text/plain": [
       "Validation: |                                                                                    | 0/? [00:00<…"
      ]
     },
     "metadata": {},
     "output_type": "display_data"
    },
    {
     "name": "stderr",
     "output_type": "stream",
     "text": [
      "Epoch 11, global step 3082: 'val_accuracy' was not in top 3\n"
     ]
    },
    {
     "data": {
      "application/vnd.jupyter.widget-view+json": {
       "model_id": "afa979dab55f448fb5b7924ab87a8be8",
       "version_major": 2,
       "version_minor": 0
      },
      "text/plain": [
       "Validation: |                                                                                    | 0/? [00:00<…"
      ]
     },
     "metadata": {},
     "output_type": "display_data"
    },
    {
     "name": "stderr",
     "output_type": "stream",
     "text": [
      "Epoch 11, global step 3216: 'val_accuracy' was not in top 3\n"
     ]
    },
    {
     "data": {
      "application/vnd.jupyter.widget-view+json": {
       "model_id": "fd31e4baa89041c4a6270ece42e39922",
       "version_major": 2,
       "version_minor": 0
      },
      "text/plain": [
       "Validation: |                                                                                    | 0/? [00:00<…"
      ]
     },
     "metadata": {},
     "output_type": "display_data"
    },
    {
     "name": "stderr",
     "output_type": "stream",
     "text": [
      "Epoch 12, global step 3350: 'val_accuracy' was not in top 3\n"
     ]
    },
    {
     "data": {
      "application/vnd.jupyter.widget-view+json": {
       "model_id": "11d11990c41b45db85cc9bfb5de86d3a",
       "version_major": 2,
       "version_minor": 0
      },
      "text/plain": [
       "Validation: |                                                                                    | 0/? [00:00<…"
      ]
     },
     "metadata": {},
     "output_type": "display_data"
    },
    {
     "name": "stderr",
     "output_type": "stream",
     "text": [
      "Epoch 12, global step 3484: 'val_accuracy' reached 0.75912 (best 0.76061), saving model to 'C:\\\\Users\\\\FOR\\\\Deep Learning\\\\autogluon_output_best4\\\\epoch=12-step=3484.ckpt' as top 3\n",
      "Start to fuse 3 checkpoints via the greedy soup algorithm.\n",
      "Using default `ModelCheckpoint`. Consider installing `litmodels` package to enable `LitModelCheckpoint` for automatic upload to the Lightning model registry.\n"
     ]
    },
    {
     "data": {
      "application/vnd.jupyter.widget-view+json": {
       "model_id": "02d6255e8f244c698aca0ac3c170964d",
       "version_major": 2,
       "version_minor": 0
      },
      "text/plain": [
       "Predicting: |                                                                                    | 0/? [00:00<…"
      ]
     },
     "metadata": {},
     "output_type": "display_data"
    },
    {
     "name": "stderr",
     "output_type": "stream",
     "text": [
      "Using default `ModelCheckpoint`. Consider installing `litmodels` package to enable `LitModelCheckpoint` for automatic upload to the Lightning model registry.\n"
     ]
    },
    {
     "data": {
      "application/vnd.jupyter.widget-view+json": {
       "model_id": "f0c0390ae684438b92bc6d83b07e0b29",
       "version_major": 2,
       "version_minor": 0
      },
      "text/plain": [
       "Predicting: |                                                                                    | 0/? [00:00<…"
      ]
     },
     "metadata": {},
     "output_type": "display_data"
    },
    {
     "name": "stderr",
     "output_type": "stream",
     "text": [
      "Using default `ModelCheckpoint`. Consider installing `litmodels` package to enable `LitModelCheckpoint` for automatic upload to the Lightning model registry.\n"
     ]
    },
    {
     "data": {
      "application/vnd.jupyter.widget-view+json": {
       "model_id": "5e5815a0d769441caba364c6efd44b22",
       "version_major": 2,
       "version_minor": 0
      },
      "text/plain": [
       "Predicting: |                                                                                    | 0/? [00:00<…"
      ]
     },
     "metadata": {},
     "output_type": "display_data"
    },
    {
     "name": "stderr",
     "output_type": "stream",
     "text": [
      "AutoMM has created your model. 🎉🎉🎉\n",
      "\n",
      "To load the model, use the code below:\n",
      "    ```python\n",
      "    from autogluon.multimodal import MultiModalPredictor\n",
      "    predictor = MultiModalPredictor.load(\"C:\\Users\\FOR\\Deep Learning\\autogluon_output_best4\")\n",
      "    ```\n",
      "\n",
      "If you are not satisfied with the model, try to increase the training time, \n",
      "adjust the hyperparameters (https://auto.gluon.ai/stable/tutorials/multimodal/advanced_topics/customization.html),\n",
      "or post issues on GitHub (https://github.com/autogluon/autogluon/issues).\n",
      "\n",
      "\n"
     ]
    }
   ],
   "source": [
    "hyperparameters = None  # 또는 빈 dict {} 로 초기화\n",
    "\n",
    "# 6. 학습 시작 (남은 에포크만큼)\n",
    "predictor.fit(\n",
    "    train_data=train_df_small,\n",
    "    tuning_data=val_df_small,\n",
    "    hyperparameters=None,   # 혹은 그냥 아예 이 인자 생략\n",
    "    presets='medium_quality',\n",
    "    time_limit=7200,\n",
    "    column_types={'image': 'image'}\n",
    ")\n",
    "# 이 부분 조심하기: 실수로 autogluon_output_best3에 모델 저장함\n",
    "predictor.save('autogluon_output_best3')  "
   ]
  },
  {
   "cell_type": "code",
   "execution_count": 8,
   "id": "6a0dc325-2a37-4f71-953d-adb8e7500ad5",
   "metadata": {},
   "outputs": [
    {
     "name": "stderr",
     "output_type": "stream",
     "text": [
      "Using default `ModelCheckpoint`. Consider installing `litmodels` package to enable `LitModelCheckpoint` for automatic upload to the Lightning model registry.\n"
     ]
    },
    {
     "data": {
      "application/vnd.jupyter.widget-view+json": {
       "model_id": "7b7d14d399d74268b43125b2d7630fa3",
       "version_major": 2,
       "version_minor": 0
      },
      "text/plain": [
       "Predicting: |                                                                                    | 0/? [00:00<…"
      ]
     },
     "metadata": {},
     "output_type": "display_data"
    }
   ],
   "source": [
    "# 7. 테스트 데이터 준비\n",
    "test_df = pd.read_csv(test_csv_path)\n",
    "test_df['image'] = test_df['img_path'].apply(lambda x: os.path.join('open', x.strip('./')))\n",
    "\n",
    "# 8. 예측\n",
    "preds = predictor.predict(test_df)"
   ]
  },
  {
   "cell_type": "code",
   "execution_count": 9,
   "id": "f109b973-692f-4664-b92e-45ee8767caf8",
   "metadata": {},
   "outputs": [],
   "source": [
    "# 9. 제출 파일 생성\n",
    "submission = pd.read_csv('open/sample_submission.csv')\n",
    "submission['rock_type'] = preds\n",
    "submission.to_csv('submission4.csv', index=False)"
   ]
  },
  {
   "cell_type": "markdown",
   "id": "fb055e40-8066-43f6-88cb-bed9519aaceb",
   "metadata": {},
   "source": [
    "#### test 데이터 로드 확인"
   ]
  },
  {
   "cell_type": "code",
   "execution_count": 10,
   "id": "a8479599-76ff-4505-9882-ce5739752499",
   "metadata": {},
   "outputs": [
    {
     "name": "stdout",
     "output_type": "stream",
     "text": [
      "0    open\\test/TEST_00000.jpg\n",
      "1    open\\test/TEST_00001.jpg\n",
      "2    open\\test/TEST_00002.jpg\n",
      "Name: image, dtype: object\n",
      "존재 여부 예시: True\n"
     ]
    }
   ],
   "source": [
    "print(test_df['image'].head(3))  # 경로가 잘 보정되었는지 확인\n",
    "print(\"존재 여부 예시:\", os.path.exists(test_df['image'].iloc[0]))  # True이면 성공\n"
   ]
  },
  {
   "cell_type": "markdown",
   "id": "d2cb1f0c-58f6-4d98-9821-3ef917d4327a",
   "metadata": {},
   "source": [
    "# "
   ]
  },
  {
   "cell_type": "code",
   "execution_count": null,
   "id": "55f1aa07-a184-4e3f-8d16-84535ea96710",
   "metadata": {},
   "outputs": [],
   "source": []
  }
 ],
 "metadata": {
  "kernelspec": {
   "display_name": "Python 3 (ipykernel)",
   "language": "python",
   "name": "python3"
  },
  "language_info": {
   "codemirror_mode": {
    "name": "ipython",
    "version": 3
   },
   "file_extension": ".py",
   "mimetype": "text/x-python",
   "name": "python",
   "nbconvert_exporter": "python",
   "pygments_lexer": "ipython3",
   "version": "3.11.1"
  }
 },
 "nbformat": 4,
 "nbformat_minor": 5
}
