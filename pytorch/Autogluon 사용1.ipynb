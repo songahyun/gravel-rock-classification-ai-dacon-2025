{
 "cells": [
  {
   "cell_type": "code",
   "execution_count": 1,
   "id": "f05995b8-66f4-4aad-87d2-22a1aabeb9d3",
   "metadata": {},
   "outputs": [],
   "source": [
    "from autogluon.multimodal import MultiModalPredictor\n",
    "import pandas as pd\n",
    "from pathlib import Path\n",
    "from sklearn.model_selection import train_test_split"
   ]
  },
  {
   "cell_type": "code",
   "execution_count": 3,
   "id": "936e8183-993c-44cc-bc8a-df3d80d79900",
   "metadata": {},
   "outputs": [],
   "source": [
    "# 설정\n",
    "train_dir = 'open/train'\n",
    "test_csv_path = 'open/test.csv'\n",
    "output_dir = 'autogluon_output_best'\n",
    "\n",
    "# 1. 학습 데이터 구성\n",
    "all_img_paths = list(Path(train_dir).rglob(\"*/*.jpg\"))\n",
    "df = pd.DataFrame({'img_path': [str(p) for p in all_img_paths]})\n",
    "df['label'] = df['img_path'].apply(lambda x: Path(x).parent.name)\n",
    "df = df.rename(columns={'img_path': 'image'})  # 컬럼명 변경\n",
    "\n",
    "# 2. train/val 분리 (train 데이터 5만개, val 데이터 1만5천개로 설정)\n",
    "train_df, val_df = train_test_split(df, test_size=0.3, stratify=df['label'], random_state=41)\n",
    "train_df_small = train_df.sample(n=50000, random_state=41)  # 5만개 데이터 샘플링\n",
    "val_df_small = val_df.sample(n=15000, random_state=41)  # 1만5천개 데이터 샘플링\n",
    "\n",
    "# 3. predictor 설정 및 학습 (하이퍼파라미터 튜닝 끄기)\n",
    "predictor = MultiModalPredictor(\n",
    "    label='label',\n",
    "    problem_type='classification',\n",
    "    path=output_dir\n",
    ")\n"
   ]
  },
  {
   "cell_type": "code",
   "execution_count": 5,
   "id": "a58983f7-4caf-4397-b881-6257f0a09fa3",
   "metadata": {},
   "outputs": [
    {
     "name": "stderr",
     "output_type": "stream",
     "text": [
      "=================== System Info ===================\n",
      "AutoGluon Version:  1.3.0\n",
      "Python Version:     3.11.1\n",
      "Operating System:   Windows\n",
      "Platform Machine:   AMD64\n",
      "Platform Version:   10.0.26100\n",
      "CPU Count:          6\n",
      "Pytorch Version:    2.6.0+cpu\n",
      "CUDA Version:       CUDA is not available\n",
      "Memory Avail:       18.58 GB / 23.91 GB (77.7%)\n",
      "Disk Space Avail:   61.14 GB / 222.28 GB (27.5%)\n",
      "===================================================\n",
      "\n",
      "AutoMM starts to create your model. ✨✨✨\n",
      "\n",
      "To track the learning progress, you can open a terminal and launch Tensorboard:\n",
      "    ```shell\n",
      "    # Assume you have installed tensorboard\n",
      "    tensorboard --logdir C:\\Users\\FOR\\Deep Learning\\autogluon_output_best\n",
      "    ```\n",
      "\n",
      "Seed set to 0\n"
     ]
    },
    {
     "data": {
      "application/vnd.jupyter.widget-view+json": {
       "model_id": "2df596c13d8548408cf99c7f83907951",
       "version_major": 2,
       "version_minor": 0
      },
      "text/plain": [
       "model.safetensors:   0%|          | 0.00/395M [00:00<?, ?B/s]"
      ]
     },
     "metadata": {},
     "output_type": "display_data"
    },
    {
     "name": "stderr",
     "output_type": "stream",
     "text": [
      "C:\\Users\\FOR\\AppData\\Local\\Programs\\Python\\Python311\\Lib\\site-packages\\huggingface_hub\\file_download.py:144: UserWarning: `huggingface_hub` cache-system uses symlinks by default to efficiently store duplicated files but your machine does not support them in C:\\Users\\FOR\\.cache\\huggingface\\hub\\models--timm--caformer_b36.sail_in22k_ft_in1k. Caching files will still work but in a degraded version that might require more space on your disk. This warning can be disabled by setting the `HF_HUB_DISABLE_SYMLINKS_WARNING` environment variable. For more details, see https://huggingface.co/docs/huggingface_hub/how-to-cache#limitations.\n",
      "To support symlinks on Windows, you either need to activate Developer Mode or to run Python as an administrator. In order to activate developer mode, see this article: https://docs.microsoft.com/en-us/windows/apps/get-started/enable-your-device-for-development\n",
      "  warnings.warn(message)\n",
      "GPU Count: 0\n",
      "GPU Count to be Used: 0\n",
      "\n",
      "C:\\Users\\FOR\\AppData\\Local\\Programs\\Python\\Python311\\Lib\\site-packages\\autogluon\\multimodal\\utils\\precision.py:71: UserWarning: Only CPU is detected in the instance. This may result in slow speed for MultiModalPredictor. Consider using an instance with GPU support.\n",
      "  warnings.warn(\n",
      "GPU available: False, used: False\n",
      "TPU available: False, using: 0 TPU cores\n",
      "HPU available: False, using: 0 HPUs\n",
      "\n",
      "  | Name              | Type                            | Params | Mode \n",
      "------------------------------------------------------------------------------\n",
      "0 | model             | TimmAutoModelForImagePrediction | 95.7 M | train\n",
      "1 | validation_metric | MulticlassAccuracy              | 0      | train\n",
      "2 | loss_func         | CrossEntropyLoss                | 0      | train\n",
      "------------------------------------------------------------------------------\n",
      "95.7 M    Trainable params\n",
      "0         Non-trainable params\n",
      "95.7 M    Total params\n",
      "382.808   Total estimated model params size (MB)\n",
      "863       Modules in train mode\n",
      "0         Modules in eval mode\n"
     ]
    },
    {
     "data": {
      "application/vnd.jupyter.widget-view+json": {
       "model_id": "4c21010bf7564f7286ce8962bcb84580",
       "version_major": 2,
       "version_minor": 0
      },
      "text/plain": [
       "Sanity Checking: |                                                                               | 0/? [00:00<…"
      ]
     },
     "metadata": {},
     "output_type": "display_data"
    },
    {
     "data": {
      "application/vnd.jupyter.widget-view+json": {
       "model_id": "2da5a03090bd46c1b1eec93c6c71b204",
       "version_major": 2,
       "version_minor": 0
      },
      "text/plain": [
       "Training: |                                                                                      | 0/? [00:00<…"
      ]
     },
     "metadata": {},
     "output_type": "display_data"
    },
    {
     "name": "stderr",
     "output_type": "stream",
     "text": [
      "Time limit reached. Elapsed time is 3:00:01. Signaling Trainer to stop.\n"
     ]
    },
    {
     "data": {
      "application/vnd.jupyter.widget-view+json": {
       "model_id": "3167e15669284a14a5f6b2602c8aa5cb",
       "version_major": 2,
       "version_minor": 0
      },
      "text/plain": [
       "Validation: |                                                                                    | 0/? [00:00<…"
      ]
     },
     "metadata": {},
     "output_type": "display_data"
    },
    {
     "name": "stderr",
     "output_type": "stream",
     "text": [
      "Epoch 0, global step 128: 'val_accuracy' reached 0.74240 (best 0.74240), saving model to 'C:\\\\Users\\\\FOR\\\\Deep Learning\\\\autogluon_output_best\\\\epoch=0-step=128.ckpt' as top 3\n",
      "AutoMM has created your model. 🎉🎉🎉\n",
      "\n",
      "To load the model, use the code below:\n",
      "    ```python\n",
      "    from autogluon.multimodal import MultiModalPredictor\n",
      "    predictor = MultiModalPredictor.load(\"C:\\Users\\FOR\\Deep Learning\\autogluon_output_best\")\n",
      "    ```\n",
      "\n",
      "If you are not satisfied with the model, try to increase the training time, \n",
      "adjust the hyperparameters (https://auto.gluon.ai/stable/tutorials/multimodal/advanced_topics/customization.html),\n",
      "or post issues on GitHub (https://github.com/autogluon/autogluon/issues).\n",
      "\n",
      "\n",
      "Using default `ModelCheckpoint`. Consider installing `litmodels` package to enable `LitModelCheckpoint` for automatic upload to the Lightning model registry.\n"
     ]
    },
    {
     "data": {
      "application/vnd.jupyter.widget-view+json": {
       "model_id": "db46e5de8cd8410e8c5bbc026577d17c",
       "version_major": 2,
       "version_minor": 0
      },
      "text/plain": [
       "Predicting: |                                                                                    | 0/? [00:00<…"
      ]
     },
     "metadata": {},
     "output_type": "display_data"
    }
   ],
   "source": [
    "predictor.fit(\n",
    "    train_data=train_df_small,\n",
    "    tuning_data=val_df_small,\n",
    "    time_limit=10800,  # 최대 3시간\n",
    "    hyperparameter_tune_kwargs=None,  # 하이퍼파라미터 튜닝 끄기\n",
    "    presets='high_quality',  # 성능과 속도 균형 (빠르고 좋음)\n",
    ")\n",
    "\n",
    "# 4. 테스트 데이터 준비\n",
    "test_df = pd.read_csv(test_csv_path)\n",
    "test_df['image'] = test_df['img_path']\n",
    "\n",
    "# 5. 예측\n",
    "preds = predictor.predict(test_df)"
   ]
  },
  {
   "cell_type": "code",
   "execution_count": 7,
   "id": "65c9485e-566c-45d3-9d53-b751d6fba7a7",
   "metadata": {},
   "outputs": [],
   "source": [
    "# 6. 제출 파일 생성\n",
    "submission = pd.read_csv('open/sample_submission.csv')\n",
    "submission['rock_type'] = preds\n",
    "submission.to_csv('submission.csv', index=False)\n"
   ]
  },
  {
   "cell_type": "raw",
   "id": "68b7da0c-b622-4ea5-b798-76a906215437",
   "metadata": {},
   "source": [
    "from autogluon.multimodal import MultiModalPredictor\n",
    "import pandas as pd\n",
    "from pathlib import Path\n",
    "from sklearn.model_selection import train_test_split\n",
    "\n",
    "# 설정\n",
    "train_dir = 'open/train'\n",
    "test_csv_path = 'open/test.csv'\n",
    "output_dir = 'autogluon_output_best'\n",
    "\n",
    "# 1. 학습 데이터 구성\n",
    "all_img_paths = list(Path(train_dir).rglob(\"*/*.jpg\"))\n",
    "df = pd.DataFrame({'img_path': [str(p) for p in all_img_paths]})\n",
    "df['label'] = df['img_path'].apply(lambda x: Path(x).parent.name)\n",
    "df = df.rename(columns={'img_path': 'image'})  # 컬럼명 변경\n",
    "\n",
    "# 2. train/val 분리 (train 데이터 5만개, val 데이터 1만5천개로 설정)\n",
    "train_df, val_df = train_test_split(df, test_size=0.3, stratify=df['label'], random_state=41)\n",
    "train_df_small = train_df.sample(n=50000, random_state=41)  # 5만개 데이터 샘플링\n",
    "val_df_small = val_df.sample(n=15000, random_state=41)  # 1만5천개 데이터 샘플링\n",
    "\n",
    "# 3. predictor 설정 및 학습 (하이퍼파라미터 튜닝 끄기)\n",
    "predictor = MultiModalPredictor(\n",
    "    label='label',\n",
    "    problem_type='image_classification',\n",
    "    path=output_dir\n",
    ")\n",
    "\n",
    "predictor.fit(\n",
    "    train_data=train_df_small,\n",
    "    tuning_data=val_df_small,\n",
    "    time_limit=10800,  # 최대 3시간\n",
    "    hyperparameter_tune_kwargs=None,  # 하이퍼파라미터 튜닝 끄기\n",
    "    presets='high_quality',  # 성능과 속도 균형\n",
    ")\n",
    "\n",
    "# 4. 테스트 데이터 준비\n",
    "test_df = pd.read_csv(test_csv_path)\n",
    "test_df['image'] = test_df['img_path']\n",
    "\n",
    "# 5. 예측\n",
    "preds = predictor.predict(test_df)\n",
    "\n",
    "# 6. 제출 파일 생성\n",
    "submission = pd.read_csv('open/sample_submission.csv')\n",
    "submission['rock_type'] = preds\n",
    "submission.to_csv('submission.csv', index=False)\n"
   ]
  },
  {
   "cell_type": "markdown",
   "id": "29fc3317-d9a4-4d4a-975b-9af1d54c81f4",
   "metadata": {},
   "source": [
    "# "
   ]
  },
  {
   "cell_type": "markdown",
   "id": "754b9075-be9c-42bc-86eb-53a73f214769",
   "metadata": {},
   "source": [
    "#### Macro f1 측정"
   ]
  },
  {
   "cell_type": "code",
   "execution_count": null,
   "id": "7b8d5be7-d134-4bee-972d-d50fbc5b0c55",
   "metadata": {},
   "outputs": [],
   "source": [
    "from sklearn.metrics import f1_score\n",
    "\n",
    "# 1. validation 데이터에 대한 예측 수행\n",
    "val_preds = predictor.predict(val_df)\n",
    "\n",
    "# 2. 실제 라벨\n",
    "true_labels = val_df['label']\n",
    "\n",
    "# 3. macro f1 계산\n",
    "macro_f1 = f1_score(true_labels, val_preds, average='macro')\n",
    "print(f\"Macro F1 Score on Validation Set: {macro_f1:.4f}\")\n"
   ]
  },
  {
   "cell_type": "code",
   "execution_count": null,
   "id": "4b3f3e2e-eb66-4dea-8676-4ced706e589f",
   "metadata": {},
   "outputs": [],
   "source": []
  }
 ],
 "metadata": {
  "kernelspec": {
   "display_name": "Python 3 (ipykernel)",
   "language": "python",
   "name": "python3"
  },
  "language_info": {
   "codemirror_mode": {
    "name": "ipython",
    "version": 3
   },
   "file_extension": ".py",
   "mimetype": "text/x-python",
   "name": "python",
   "nbconvert_exporter": "python",
   "pygments_lexer": "ipython3",
   "version": "3.11.1"
  }
 },
 "nbformat": 4,
 "nbformat_minor": 5
}
