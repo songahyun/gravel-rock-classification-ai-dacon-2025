{
 "cells": [
  {
   "cell_type": "markdown",
   "id": "784857b9-112c-48f0-8c9b-1fd5f6b7e048",
   "metadata": {},
   "source": [
    "## Autogluon 3번째 시도"
   ]
  },
  {
   "cell_type": "code",
   "execution_count": 12,
   "id": "02c3193e-23c2-4e25-ac58-8702b8ccc348",
   "metadata": {},
   "outputs": [],
   "source": [
    "from autogluon.multimodal import MultiModalPredictor\n",
    "import pandas as pd\n",
    "from pathlib import Path\n",
    "from sklearn.model_selection import train_test_split\n",
    "import torch\n",
    "import os\n",
    "\n",
    "# 설정\n",
    "train_dir = 'open/train'\n",
    "test_csv_path = 'open/test.csv'\n",
    "output_dir = 'autogluon_output_best3'\n",
    "resume = True  # True로 두면 중단 후 이어서 학습"
   ]
  },
  {
   "cell_type": "code",
   "execution_count": 13,
   "id": "30d18c73-2fe9-4d07-984e-0e4aef5c539d",
   "metadata": {},
   "outputs": [],
   "source": [
    "# 1. 학습 데이터 구성\n",
    "all_img_paths = list(Path(train_dir).rglob(\"*/*.jpg\"))\n",
    "df = pd.DataFrame({'img_path': [str(p) for p in all_img_paths]})\n",
    "df['label'] = df['img_path'].apply(lambda x: Path(x).parent.name)\n",
    "df = df.rename(columns={'img_path': 'image'})  # 컬럼명 변경\n",
    "\n",
    "# 2. 각 폴더에서 7천 장의 데이터를 랜덤 추출\n",
    "df_balanced = pd.DataFrame()\n",
    "for label in df['label'].unique():\n",
    "    label_df = df[df['label'] == label]\n",
    "    label_df_sampled = label_df.sample(n=7000, random_state=41)\n",
    "    df_balanced = pd.concat([df_balanced, label_df_sampled], axis=0)\n",
    "\n",
    "# 3. train/val 분리\n",
    "train_df, val_df = train_test_split(df_balanced, test_size=0.3, stratify=df_balanced['label'], random_state=41)\n",
    "train_df_small = train_df.sample(n=min(49000, len(train_df)), random_state=41)\n",
    "val_df_small = val_df.sample(n=min(15000, len(val_df)), random_state=41)\n",
    "\n",
    "# # 4. GPU 설정\n",
    "# num_gpus = 1 if torch.cuda.is_available() else 0\n"
   ]
  },
  {
   "cell_type": "code",
   "execution_count": 14,
   "id": "f7d0475b-89e4-4223-baf7-b3bcc24d6aa3",
   "metadata": {},
   "outputs": [
    {
     "name": "stdout",
     "output_type": "stream",
     "text": [
      "🆕 새로운 predictor를 생성합니다.\n"
     ]
    }
   ],
   "source": [
    "# 5. 기존 predictor 불러오기 또는 새로 생성\n",
    "if resume and os.path.exists(os.path.join(output_dir, 'predictor.pkl')):\n",
    "    print(\"🔁 이전 학습 결과를 불러옵니다.\")\n",
    "    predictor = MultiModalPredictor.load(output_dir)\n",
    "else:\n",
    "    print(\"🆕 새로운 predictor를 생성합니다.\")\n",
    "    predictor = MultiModalPredictor(\n",
    "        label='label',\n",
    "        problem_type='classification',\n",
    "        eval_metric='accuracy',\n",
    "        path=output_dir\n",
    "    )"
   ]
  },
  {
   "cell_type": "code",
   "execution_count": 18,
   "id": "217a0fdf-d79c-4b77-af24-d6464277903b",
   "metadata": {
    "scrolled": true
   },
   "outputs": [
    {
     "name": "stderr",
     "output_type": "stream",
     "text": [
      "=================== System Info ===================\n",
      "AutoGluon Version:  1.3.0\n",
      "Python Version:     3.11.1\n",
      "Operating System:   Windows\n",
      "Platform Machine:   AMD64\n",
      "Platform Version:   10.0.26100\n",
      "CPU Count:          6\n",
      "Pytorch Version:    2.6.0+cu126\n",
      "CUDA Version:       12.6\n",
      "Memory Avail:       15.90 GB / 23.91 GB (66.5%)\n",
      "Disk Space Avail:   33.31 GB / 222.28 GB (15.0%)\n",
      "===================================================\n",
      "\n",
      "AutoMM starts to create your model. ✨✨✨\n",
      "\n",
      "To track the learning progress, you can open a terminal and launch Tensorboard:\n",
      "    ```shell\n",
      "    # Assume you have installed tensorboard\n",
      "    tensorboard --logdir C:\\Users\\FOR\\Deep Learning\\autogluon_output_best3\n",
      "    ```\n",
      "\n",
      "Seed set to 0\n",
      "GPU Count: 1\n",
      "GPU Count to be Used: 1\n",
      "\n",
      "Using 16bit Automatic Mixed Precision (AMP)\n",
      "GPU available: True (cuda), used: True\n",
      "TPU available: False, using: 0 TPU cores\n",
      "HPU available: False, using: 0 HPUs\n",
      "LOCAL_RANK: 0 - CUDA_VISIBLE_DEVICES: [0]\n",
      "\n",
      "  | Name              | Type                            | Params | Mode \n",
      "------------------------------------------------------------------------------\n",
      "0 | model             | TimmAutoModelForImagePrediction | 4.2 M  | train\n",
      "1 | validation_metric | MulticlassAccuracy              | 0      | train\n",
      "2 | loss_func         | CrossEntropyLoss                | 0      | train\n",
      "------------------------------------------------------------------------------\n",
      "4.2 M     Trainable params\n",
      "0         Non-trainable params\n",
      "4.2 M     Total params\n",
      "16.844    Total estimated model params size (MB)\n",
      "286       Modules in train mode\n",
      "0         Modules in eval mode\n"
     ]
    },
    {
     "data": {
      "application/vnd.jupyter.widget-view+json": {
       "model_id": "0ee159e42cbb41d4a1f6d612a10bf79c",
       "version_major": 2,
       "version_minor": 0
      },
      "text/plain": [
       "Sanity Checking: |                                                                               | 0/? [00:00<…"
      ]
     },
     "metadata": {},
     "output_type": "display_data"
    },
    {
     "data": {
      "application/vnd.jupyter.widget-view+json": {
       "model_id": "e6925f28a55b4e638c87a6555e11ac8d",
       "version_major": 2,
       "version_minor": 0
      },
      "text/plain": [
       "Training: |                                                                                      | 0/? [00:00<…"
      ]
     },
     "metadata": {},
     "output_type": "display_data"
    },
    {
     "data": {
      "application/vnd.jupyter.widget-view+json": {
       "model_id": "f78259821cfe43f08890db2ba8cec17a",
       "version_major": 2,
       "version_minor": 0
      },
      "text/plain": [
       "Validation: |                                                                                    | 0/? [00:00<…"
      ]
     },
     "metadata": {},
     "output_type": "display_data"
    },
    {
     "name": "stderr",
     "output_type": "stream",
     "text": [
      "Epoch 0, global step 134: 'val_accuracy' reached 0.51252 (best 0.51252), saving model to 'C:\\\\Users\\\\FOR\\\\Deep Learning\\\\autogluon_output_best3\\\\epoch=0-step=134.ckpt' as top 3\n"
     ]
    },
    {
     "data": {
      "application/vnd.jupyter.widget-view+json": {
       "model_id": "9fefc198858041d59ca8305924249772",
       "version_major": 2,
       "version_minor": 0
      },
      "text/plain": [
       "Validation: |                                                                                    | 0/? [00:00<…"
      ]
     },
     "metadata": {},
     "output_type": "display_data"
    },
    {
     "name": "stderr",
     "output_type": "stream",
     "text": [
      "Epoch 0, global step 268: 'val_accuracy' reached 0.61463 (best 0.61463), saving model to 'C:\\\\Users\\\\FOR\\\\Deep Learning\\\\autogluon_output_best3\\\\epoch=0-step=268.ckpt' as top 3\n"
     ]
    },
    {
     "data": {
      "application/vnd.jupyter.widget-view+json": {
       "model_id": "ff7ef7b13f424b2cab40fc3ccda31953",
       "version_major": 2,
       "version_minor": 0
      },
      "text/plain": [
       "Validation: |                                                                                    | 0/? [00:00<…"
      ]
     },
     "metadata": {},
     "output_type": "display_data"
    },
    {
     "name": "stderr",
     "output_type": "stream",
     "text": [
      "Epoch 1, global step 402: 'val_accuracy' reached 0.65578 (best 0.65578), saving model to 'C:\\\\Users\\\\FOR\\\\Deep Learning\\\\autogluon_output_best3\\\\epoch=1-step=402.ckpt' as top 3\n"
     ]
    },
    {
     "data": {
      "application/vnd.jupyter.widget-view+json": {
       "model_id": "247a9fe92737434e8b758653b72a614c",
       "version_major": 2,
       "version_minor": 0
      },
      "text/plain": [
       "Validation: |                                                                                    | 0/? [00:00<…"
      ]
     },
     "metadata": {},
     "output_type": "display_data"
    },
    {
     "name": "stderr",
     "output_type": "stream",
     "text": [
      "Epoch 1, global step 536: 'val_accuracy' reached 0.67898 (best 0.67898), saving model to 'C:\\\\Users\\\\FOR\\\\Deep Learning\\\\autogluon_output_best3\\\\epoch=1-step=536.ckpt' as top 3\n"
     ]
    },
    {
     "data": {
      "application/vnd.jupyter.widget-view+json": {
       "model_id": "9d2e3ec8408f4136b43882b8922c0894",
       "version_major": 2,
       "version_minor": 0
      },
      "text/plain": [
       "Validation: |                                                                                    | 0/? [00:00<…"
      ]
     },
     "metadata": {},
     "output_type": "display_data"
    },
    {
     "name": "stderr",
     "output_type": "stream",
     "text": [
      "Epoch 2, global step 670: 'val_accuracy' reached 0.69816 (best 0.69816), saving model to 'C:\\\\Users\\\\FOR\\\\Deep Learning\\\\autogluon_output_best3\\\\epoch=2-step=670.ckpt' as top 3\n"
     ]
    },
    {
     "data": {
      "application/vnd.jupyter.widget-view+json": {
       "model_id": "b2de5b3567184375a1f359fe1ce7af39",
       "version_major": 2,
       "version_minor": 0
      },
      "text/plain": [
       "Validation: |                                                                                    | 0/? [00:00<…"
      ]
     },
     "metadata": {},
     "output_type": "display_data"
    },
    {
     "name": "stderr",
     "output_type": "stream",
     "text": [
      "Epoch 2, global step 804: 'val_accuracy' reached 0.70891 (best 0.70891), saving model to 'C:\\\\Users\\\\FOR\\\\Deep Learning\\\\autogluon_output_best3\\\\epoch=2-step=804.ckpt' as top 3\n"
     ]
    },
    {
     "data": {
      "application/vnd.jupyter.widget-view+json": {
       "model_id": "c9952ed50d91418ca3f689c3f7754c93",
       "version_major": 2,
       "version_minor": 0
      },
      "text/plain": [
       "Validation: |                                                                                    | 0/? [00:00<…"
      ]
     },
     "metadata": {},
     "output_type": "display_data"
    },
    {
     "name": "stderr",
     "output_type": "stream",
     "text": [
      "Epoch 3, global step 938: 'val_accuracy' reached 0.72000 (best 0.72000), saving model to 'C:\\\\Users\\\\FOR\\\\Deep Learning\\\\autogluon_output_best3\\\\epoch=3-step=938.ckpt' as top 3\n"
     ]
    },
    {
     "data": {
      "application/vnd.jupyter.widget-view+json": {
       "model_id": "48b5c1cbcfe6446b91b66ed2f3254d41",
       "version_major": 2,
       "version_minor": 0
      },
      "text/plain": [
       "Validation: |                                                                                    | 0/? [00:00<…"
      ]
     },
     "metadata": {},
     "output_type": "display_data"
    },
    {
     "name": "stderr",
     "output_type": "stream",
     "text": [
      "Epoch 3, global step 1072: 'val_accuracy' reached 0.73680 (best 0.73680), saving model to 'C:\\\\Users\\\\FOR\\\\Deep Learning\\\\autogluon_output_best3\\\\epoch=3-step=1072.ckpt' as top 3\n"
     ]
    },
    {
     "data": {
      "application/vnd.jupyter.widget-view+json": {
       "model_id": "afd8e91c794546e68d87bdd2097dbe96",
       "version_major": 2,
       "version_minor": 0
      },
      "text/plain": [
       "Validation: |                                                                                    | 0/? [00:00<…"
      ]
     },
     "metadata": {},
     "output_type": "display_data"
    },
    {
     "name": "stderr",
     "output_type": "stream",
     "text": [
      "Epoch 4, global step 1206: 'val_accuracy' reached 0.73728 (best 0.73728), saving model to 'C:\\\\Users\\\\FOR\\\\Deep Learning\\\\autogluon_output_best3\\\\epoch=4-step=1206.ckpt' as top 3\n"
     ]
    },
    {
     "data": {
      "application/vnd.jupyter.widget-view+json": {
       "model_id": "8aadfe30944d4e3f9580f2f069e9208e",
       "version_major": 2,
       "version_minor": 0
      },
      "text/plain": [
       "Validation: |                                                                                    | 0/? [00:00<…"
      ]
     },
     "metadata": {},
     "output_type": "display_data"
    },
    {
     "name": "stderr",
     "output_type": "stream",
     "text": [
      "Epoch 4, global step 1340: 'val_accuracy' reached 0.73109 (best 0.73728), saving model to 'C:\\\\Users\\\\FOR\\\\Deep Learning\\\\autogluon_output_best3\\\\epoch=4-step=1340.ckpt' as top 3\n"
     ]
    },
    {
     "data": {
      "application/vnd.jupyter.widget-view+json": {
       "model_id": "9684d65841474f299428e5865e79ef9e",
       "version_major": 2,
       "version_minor": 0
      },
      "text/plain": [
       "Validation: |                                                                                    | 0/? [00:00<…"
      ]
     },
     "metadata": {},
     "output_type": "display_data"
    },
    {
     "name": "stderr",
     "output_type": "stream",
     "text": [
      "Epoch 5, global step 1474: 'val_accuracy' reached 0.73830 (best 0.73830), saving model to 'C:\\\\Users\\\\FOR\\\\Deep Learning\\\\autogluon_output_best3\\\\epoch=5-step=1474.ckpt' as top 3\n"
     ]
    },
    {
     "data": {
      "application/vnd.jupyter.widget-view+json": {
       "model_id": "59ad113b9f0548259404fba309f170b8",
       "version_major": 2,
       "version_minor": 0
      },
      "text/plain": [
       "Validation: |                                                                                    | 0/? [00:00<…"
      ]
     },
     "metadata": {},
     "output_type": "display_data"
    },
    {
     "name": "stderr",
     "output_type": "stream",
     "text": [
      "Epoch 5, global step 1608: 'val_accuracy' reached 0.74891 (best 0.74891), saving model to 'C:\\\\Users\\\\FOR\\\\Deep Learning\\\\autogluon_output_best3\\\\epoch=5-step=1608.ckpt' as top 3\n",
      "Time limit reached. Elapsed time is 0:30:00. Signaling Trainer to stop.\n"
     ]
    },
    {
     "data": {
      "application/vnd.jupyter.widget-view+json": {
       "model_id": "dc6175012c21450f8bcff04fce74b3e4",
       "version_major": 2,
       "version_minor": 0
      },
      "text/plain": [
       "Validation: |                                                                                    | 0/? [00:00<…"
      ]
     },
     "metadata": {},
     "output_type": "display_data"
    },
    {
     "name": "stderr",
     "output_type": "stream",
     "text": [
      "Epoch 6, global step 1657: 'val_accuracy' reached 0.75156 (best 0.75156), saving model to 'C:\\\\Users\\\\FOR\\\\Deep Learning\\\\autogluon_output_best3\\\\epoch=6-step=1657.ckpt' as top 3\n",
      "Start to fuse 3 checkpoints via the greedy soup algorithm.\n",
      "Using default `ModelCheckpoint`. Consider installing `litmodels` package to enable `LitModelCheckpoint` for automatic upload to the Lightning model registry.\n"
     ]
    },
    {
     "data": {
      "application/vnd.jupyter.widget-view+json": {
       "model_id": "187fe1babd4049c3bd170829542d12e1",
       "version_major": 2,
       "version_minor": 0
      },
      "text/plain": [
       "Predicting: |                                                                                    | 0/? [00:00<…"
      ]
     },
     "metadata": {},
     "output_type": "display_data"
    },
    {
     "name": "stderr",
     "output_type": "stream",
     "text": [
      "Using default `ModelCheckpoint`. Consider installing `litmodels` package to enable `LitModelCheckpoint` for automatic upload to the Lightning model registry.\n"
     ]
    },
    {
     "data": {
      "application/vnd.jupyter.widget-view+json": {
       "model_id": "7ccfb4bbcc314e28ae4804c7b7bb6e2f",
       "version_major": 2,
       "version_minor": 0
      },
      "text/plain": [
       "Predicting: |                                                                                    | 0/? [00:00<…"
      ]
     },
     "metadata": {},
     "output_type": "display_data"
    },
    {
     "name": "stderr",
     "output_type": "stream",
     "text": [
      "Using default `ModelCheckpoint`. Consider installing `litmodels` package to enable `LitModelCheckpoint` for automatic upload to the Lightning model registry.\n"
     ]
    },
    {
     "data": {
      "application/vnd.jupyter.widget-view+json": {
       "model_id": "50ea8f14eb014505bb5809e2312ded43",
       "version_major": 2,
       "version_minor": 0
      },
      "text/plain": [
       "Predicting: |                                                                                    | 0/? [00:00<…"
      ]
     },
     "metadata": {},
     "output_type": "display_data"
    },
    {
     "name": "stderr",
     "output_type": "stream",
     "text": [
      "AutoMM has created your model. 🎉🎉🎉\n",
      "\n",
      "To load the model, use the code below:\n",
      "    ```python\n",
      "    from autogluon.multimodal import MultiModalPredictor\n",
      "    predictor = MultiModalPredictor.load(\"C:\\Users\\FOR\\Deep Learning\\autogluon_output_best3\")\n",
      "    ```\n",
      "\n",
      "If you are not satisfied with the model, try to increase the training time, \n",
      "adjust the hyperparameters (https://auto.gluon.ai/stable/tutorials/multimodal/advanced_topics/customization.html),\n",
      "or post issues on GitHub (https://github.com/autogluon/autogluon/issues).\n",
      "\n",
      "\n"
     ]
    },
    {
     "data": {
      "text/plain": [
       "<autogluon.multimodal.predictor.MultiModalPredictor at 0x23233bfa6d0>"
      ]
     },
     "execution_count": 18,
     "metadata": {},
     "output_type": "execute_result"
    }
   ],
   "source": [
    "hyperparameters = None  # 또는 빈 dict {} 로 초기화\n",
    "\n",
    "# 6. 학습 시작 (남은 에포크만큼)\n",
    "predictor.fit(\n",
    "    train_data=train_df_small,\n",
    "    tuning_data=val_df_small,\n",
    "    hyperparameters=None,   # 혹은 그냥 아예 이 인자 생략\n",
    "    presets='medium_quality',\n",
    "    time_limit=1800,\n",
    "    column_types={'image': 'image'}\n",
    ")\n"
   ]
  },
  {
   "cell_type": "code",
   "execution_count": 24,
   "id": "b696b70d-7f69-4cec-abaf-59bf1b492fb7",
   "metadata": {},
   "outputs": [
    {
     "name": "stderr",
     "output_type": "stream",
     "text": [
      "Using default `ModelCheckpoint`. Consider installing `litmodels` package to enable `LitModelCheckpoint` for automatic upload to the Lightning model registry.\n"
     ]
    },
    {
     "data": {
      "application/vnd.jupyter.widget-view+json": {
       "model_id": "20aeba0ed3f742648caa855e7d354c9e",
       "version_major": 2,
       "version_minor": 0
      },
      "text/plain": [
       "Predicting: |                                                                                    | 0/? [00:00<…"
      ]
     },
     "metadata": {},
     "output_type": "display_data"
    }
   ],
   "source": [
    "# 7. 테스트 데이터 준비\n",
    "test_df = pd.read_csv(test_csv_path)\n",
    "test_df['image'] = test_df['img_path'].apply(lambda x: os.path.join('open', x.strip('./')))\n",
    "\n",
    "# 8. 예측\n",
    "preds = predictor.predict(test_df)"
   ]
  },
  {
   "cell_type": "code",
   "execution_count": 25,
   "id": "4c2ab638-bf81-408a-bc7f-33a7ef2fe4a7",
   "metadata": {},
   "outputs": [],
   "source": [
    "# 9. 제출 파일 생성\n",
    "submission = pd.read_csv('open/sample_submission.csv')\n",
    "submission['rock_type'] = preds\n",
    "submission.to_csv('submission3.csv', index=False)"
   ]
  },
  {
   "cell_type": "markdown",
   "id": "fb055e40-8066-43f6-88cb-bed9519aaceb",
   "metadata": {},
   "source": [
    "### test 데이터 로드 확인"
   ]
  },
  {
   "cell_type": "code",
   "execution_count": 26,
   "id": "07b82f1a-8a30-42b9-8fc9-bffaa552bff5",
   "metadata": {},
   "outputs": [
    {
     "name": "stdout",
     "output_type": "stream",
     "text": [
      "0    open\\test/TEST_00000.jpg\n",
      "1    open\\test/TEST_00001.jpg\n",
      "2    open\\test/TEST_00002.jpg\n",
      "Name: image, dtype: object\n",
      "존재 여부 예시: True\n"
     ]
    }
   ],
   "source": [
    "print(test_df['image'].head(3))  # 경로가 잘 보정되었는지 확인\n",
    "print(\"존재 여부 예시:\", os.path.exists(test_df['image'].iloc[0]))  # True이면 성공\n"
   ]
  },
  {
   "cell_type": "markdown",
   "id": "d2cb1f0c-58f6-4d98-9821-3ef917d4327a",
   "metadata": {},
   "source": [
    "# "
   ]
  },
  {
   "cell_type": "raw",
   "id": "10da04c4-25e7-4954-afae-586d4bdcce3e",
   "metadata": {},
   "source": [
    "from autogluon.multimodal import MultiModalPredictor\n",
    "import pandas as pd\n",
    "from pathlib import Path\n",
    "from sklearn.model_selection import train_test_split\n",
    "import torch\n",
    "import os\n",
    "\n",
    "# 설정\n",
    "train_dir = 'open/train'\n",
    "test_csv_path = 'open/test.csv'\n",
    "output_dir = 'autogluon_output_best3'\n",
    "resume = True  # True로 두면 중단 후 이어서 학습\n",
    "\n",
    "# 1. 학습 데이터 구성\n",
    "all_img_paths = list(Path(train_dir).rglob(\"*/*.jpg\"))\n",
    "df = pd.DataFrame({'img_path': [str(p) for p in all_img_paths]})\n",
    "df['label'] = df['img_path'].apply(lambda x: Path(x).parent.name)\n",
    "df = df.rename(columns={'img_path': 'image'})  # 컬럼명 변경\n",
    "\n",
    "# 2. 각 폴더에서 7천 장의 데이터를 랜덤 추출\n",
    "df_balanced = pd.DataFrame()\n",
    "for label in df['label'].unique():\n",
    "    label_df = df[df['label'] == label]\n",
    "    label_df_sampled = label_df.sample(n=7000, random_state=41)\n",
    "    df_balanced = pd.concat([df_balanced, label_df_sampled], axis=0)\n",
    "\n",
    "# 3. train/val 분리\n",
    "train_df, val_df = train_test_split(df_balanced, test_size=0.3, stratify=df_balanced['label'], random_state=41)\n",
    "train_df_small = train_df.sample(n=min(49000, len(train_df)), random_state=41)\n",
    "val_df_small = val_df.sample(n=min(15000, len(val_df)), random_state=41)\n",
    "\n",
    "# # 4. GPU 설정\n",
    "# num_gpus = 1 if torch.cuda.is_available() else 0\n",
    "\n",
    "# 기존 predictor 불러오기 또는 새로 생성\n",
    "if resume and os.path.exists(os.path.join(output_dir, 'predictor.pkl')):\n",
    "    print(\"🔁 이전 학습 결과를 불러옵니다.\")\n",
    "    predictor = MultiModalPredictor.load(output_dir)\n",
    "else:\n",
    "    print(\"🆕 새로운 predictor를 생성합니다.\")\n",
    "    predictor = MultiModalPredictor(\n",
    "        label='label',\n",
    "        problem_type='classification',\n",
    "        path=output_dir\n",
    "    )\n",
    "    \n",
    "hyperparameters = None  # 또는 빈 dict {} 로 초기화\n",
    "\n",
    "# 6. 학습 시작 (남은 에포크만큼)\n",
    "predictor.fit(\n",
    "    train_data=train_df_small,\n",
    "    tuning_data=val_df_small,\n",
    "    hyperparameters=None,   # 혹은 그냥 아예 이 인자 생략\n",
    "    presets='medium_quality',\n",
    "    time_limit=1800,\n",
    "    column_types={'image': 'image'}\n",
    ")\n",
    "\n",
    "# 7. 테스트 데이터 준비\n",
    "test_df = pd.read_csv(test_csv_path)\n",
    "test_df['image'] = test_df['img_path']\n",
    "\n",
    "# 8. 예측\n",
    "preds = predictor.predict(test_df)\n",
    "\n",
    "# 9. 제출 파일 생성\n",
    "submission = pd.read_csv('open/sample_submission.csv')\n",
    "submission['rock_type'] = preds\n",
    "submission.to_csv('submission3.csv', index=False)"
   ]
  },
  {
   "cell_type": "markdown",
   "id": "c4df1069-6733-40ab-beea-5e40137da5cb",
   "metadata": {},
   "source": [
    "🔁 이어서 학습하려면?\n",
    "1. 처음 실행\n",
    "resume=True이지만 predictor.pkl이 없으면 새로 학습 시작\n",
    "\n",
    "2. 학습 중 중단 (예: 에포크 1만 끝나고 종료됨)\n",
    "3. 다시 실행\n",
    "predictor.pkl 존재 → 불러오기\n",
    "\n",
    "다시 predictor.fit() 호출하면 이어서 훈련함 (단, 총 에포크 수는 사용자가 수동 조정해야 함)\n",
    "\n",
    "예:\n",
    "\n",
    "처음에 1 에포크만 학습함\n",
    "\n",
    "다음에 다시 실행할 땐 epochs=2로 두면 1 + 2 = 총 3번 학습됨"
   ]
  },
  {
   "cell_type": "code",
   "execution_count": null,
   "id": "55f1aa07-a184-4e3f-8d16-84535ea96710",
   "metadata": {},
   "outputs": [],
   "source": []
  }
 ],
 "metadata": {
  "kernelspec": {
   "display_name": "Python 3 (ipykernel)",
   "language": "python",
   "name": "python3"
  },
  "language_info": {
   "codemirror_mode": {
    "name": "ipython",
    "version": 3
   },
   "file_extension": ".py",
   "mimetype": "text/x-python",
   "name": "python",
   "nbconvert_exporter": "python",
   "pygments_lexer": "ipython3",
   "version": "3.11.1"
  }
 },
 "nbformat": 4,
 "nbformat_minor": 5
}
