{
 "cells": [
  {
   "cell_type": "markdown",
   "id": "ecff257b-d437-456e-81fa-f1216c9ee854",
   "metadata": {},
   "source": [
    "### Tensorflow + EfficientNetV2B0 사용1코드\n",
    "이미지 증강, Dropout 조정, EarlyStopping, ReduceLROnPlateau, Padding 등을 반영한 코드"
   ]
  },
  {
   "cell_type": "code",
   "execution_count": 1,
   "id": "4b993ce1-aed6-40c1-9458-1409ccdf0ed8",
   "metadata": {},
   "outputs": [],
   "source": [
    "import os\n",
    "import pandas as pd\n",
    "import numpy as np\n",
    "from pathlib import Path\n",
    "import tensorflow as tf\n",
    "from tensorflow.keras.applications import EfficientNetV2B0  \n",
    "from tensorflow.keras import layers, models, optimizers, callbacks\n",
    "from sklearn.model_selection import train_test_split  # 수정됨\n",
    "\n",
    "# 설정\n",
    "train_dir = './open/train'\n",
    "batch_size = 16\n",
    "img_size = (224, 224)\n",
    "checkpoint_dir = './checkpoints2'\n",
    "os.makedirs(checkpoint_dir, exist_ok=True)\n",
    "epoch_tracker_path = os.path.join(checkpoint_dir, 'epoch_tracker.txt')\n"
   ]
  },
  {
   "cell_type": "code",
   "execution_count": 2,
   "id": "76747b3c-4bea-4667-a4ba-4973f0f5d267",
   "metadata": {},
   "outputs": [
    {
     "name": "stderr",
     "output_type": "stream",
     "text": [
      "C:\\Users\\FOR\\AppData\\Local\\Temp\\ipykernel_18528\\2211189878.py:10: DeprecationWarning: DataFrameGroupBy.apply operated on the grouping columns. This behavior is deprecated, and in a future version of pandas the grouping columns will be excluded from the operation. Either pass `include_groups=False` to exclude the groupings or explicitly select the grouping columns after groupby to silence this warning.\n",
      "  df_balanced = df.groupby('label').apply(lambda x: x.sample(n=15000, random_state=42)).reset_index(drop=True)\n"
     ]
    }
   ],
   "source": [
    "# 라벨 인코딩\n",
    "image_paths = list(Path(train_dir).rglob('*.jpg'))\n",
    "df = pd.DataFrame({'image': [str(p) for p in image_paths]})\n",
    "df['label'] = df['image'].apply(lambda x: Path(x).parent.name)\n",
    "label2idx = {label: idx for idx, label in enumerate(sorted(df['label'].unique()))}\n",
    "idx2label = {idx: label for label, idx in label2idx.items()}\n",
    "df['label_idx'] = df['label'].map(label2idx)\n",
    "\n",
    "# 균형 샘플링\n",
    "df_balanced = df.groupby('label').apply(lambda x: x.sample(n=15000, random_state=42)).reset_index(drop=True)\n",
    "train_df, val_df = train_test_split(df_balanced, test_size=0.3, stratify=df_balanced['label_idx'], random_state=42)\n",
    "\n",
    "# 파일 경로와 라벨을 텐서로 변환\n",
    "def df_to_dataset(df, shuffle=True):\n",
    "    paths = df['image'].values\n",
    "    labels = df['label_idx'].values.astype(np.int32)\n",
    "    ds = tf.data.Dataset.from_tensor_slices((paths, labels))\n",
    "\n",
    "    def process(path, label):\n",
    "        image = tf.io.read_file(path)\n",
    "        image = tf.image.decode_jpeg(image, channels=3)\n",
    "        image = tf.image.resize_with_pad(image, img_size[0], img_size[1])\n",
    "        image = tf.image.convert_image_dtype(image, tf.float32)\n",
    "\n",
    "        # 증강\n",
    "        image = tf.image.random_flip_left_right(image)\n",
    "        image = tf.image.random_brightness(image, 0.2)\n",
    "        image = tf.image.random_contrast(image, 0.8, 1.2)\n",
    "        image = tf.image.random_crop(tf.image.resize_with_crop_or_pad(image, 250, 250), [224, 224, 3])\n",
    "        return image, label\n",
    "\n",
    "    ds = ds.map(process, num_parallel_calls=tf.data.AUTOTUNE)\n",
    "    if shuffle:\n",
    "        ds = ds.shuffle(buffer_size=len(df))\n",
    "    return ds.batch(batch_size).prefetch(tf.data.AUTOTUNE)\n",
    "\n",
    "train_dataset = df_to_dataset(train_df)\n",
    "val_dataset = df_to_dataset(val_df, shuffle=False)\n"
   ]
  },
  {
   "cell_type": "code",
   "execution_count": 3,
   "id": "7279845c-9346-4034-9ebb-3df64d126b51",
   "metadata": {},
   "outputs": [
    {
     "name": "stdout",
     "output_type": "stream",
     "text": [
      "Downloading data from https://storage.googleapis.com/tensorflow/keras-applications/efficientnet_v2/efficientnetv2-b0_notop.h5\n",
      "\u001b[1m24274472/24274472\u001b[0m \u001b[32m━━━━━━━━━━━━━━━━━━━━\u001b[0m\u001b[37m\u001b[0m \u001b[1m2s\u001b[0m 0us/step\n"
     ]
    }
   ],
   "source": [
    "# 마지막 학습 에포크 불러오기\n",
    "def get_last_epoch():\n",
    "    if os.path.exists(epoch_tracker_path):\n",
    "        with open(epoch_tracker_path, 'r') as f:\n",
    "            return int(f.read().strip()) + 1\n",
    "    return 0\n",
    "\n",
    "# 모델 생성\n",
    "def build_model(num_classes):\n",
    "    base_model = EfficientNetV2B0(include_top=False, input_shape=(224, 224, 3), pooling='avg', weights='imagenet')\n",
    "    base_model.trainable = True\n",
    "    model = models.Sequential([\n",
    "        base_model,\n",
    "        layers.Dropout(0.5),\n",
    "        layers.Dense(num_classes, activation='softmax')\n",
    "    ])\n",
    "    model.compile(optimizer=optimizers.Adam(1e-4),\n",
    "                  loss='sparse_categorical_crossentropy',\n",
    "                  metrics=['accuracy'])\n",
    "    return model\n",
    "\n",
    "model = build_model(len(label2idx))\n"
   ]
  },
  {
   "cell_type": "code",
   "execution_count": 4,
   "id": "acd85aa2-fd6e-493e-8655-691c9defc734",
   "metadata": {},
   "outputs": [
    {
     "name": "stdout",
     "output_type": "stream",
     "text": [
      "🚀 새로 학습을 시작합니다\n"
     ]
    }
   ],
   "source": [
    "# 체크포인트 로드\n",
    "last_epoch = get_last_epoch()\n",
    "ckpt_path = os.path.join(checkpoint_dir, f'model_epoch_{last_epoch-1}.weights.h5')\n",
    "if os.path.exists(ckpt_path):\n",
    "    print(f\"✅ 이전 체크포인트 {ckpt_path} 불러옵니다\")\n",
    "    model.load_weights(ckpt_path)\n",
    "else:\n",
    "    print(\"🚀 새로 학습을 시작합니다\")\n",
    "\n",
    "# 콜백 설정\n",
    "class CustomCheckpoint(callbacks.Callback):\n",
    "    def on_epoch_end(self, epoch, logs=None):\n",
    "        path = os.path.join(checkpoint_dir, f'model_epoch_{epoch}.weights.h5')\n",
    "        self.model.save_weights(path)\n",
    "        with open(epoch_tracker_path, 'w') as f:\n",
    "            f.write(str(epoch))\n",
    "        print(f\"📦 에포크 {epoch} 모델 저장 완료\")\n",
    "\n",
    "early_stop = callbacks.EarlyStopping(monitor='val_loss', patience=3, restore_best_weights=True)\n",
    "reduce_lr = callbacks.ReduceLROnPlateau(monitor='val_loss', factor=0.5, patience=2)\n"
   ]
  },
  {
   "cell_type": "code",
   "execution_count": 5,
   "id": "78a0b8bc-380e-4af3-a87d-031092464748",
   "metadata": {
    "scrolled": true
   },
   "outputs": [
    {
     "name": "stdout",
     "output_type": "stream",
     "text": [
      "Epoch 1/4\n",
      "\u001b[1m4594/4594\u001b[0m \u001b[32m━━━━━━━━━━━━━━━━━━━━\u001b[0m\u001b[37m\u001b[0m \u001b[1m0s\u001b[0m 891ms/step - accuracy: 0.5871 - loss: 1.1068📦 에포크 0 모델 저장 완료\n",
      "\u001b[1m4594/4594\u001b[0m \u001b[32m━━━━━━━━━━━━━━━━━━━━\u001b[0m\u001b[37m\u001b[0m \u001b[1m4589s\u001b[0m 960ms/step - accuracy: 0.5871 - loss: 1.1067 - val_accuracy: 0.7681 - val_loss: 0.6417 - learning_rate: 1.0000e-04\n",
      "Epoch 2/4\n",
      "\u001b[1m4594/4594\u001b[0m \u001b[32m━━━━━━━━━━━━━━━━━━━━\u001b[0m\u001b[37m\u001b[0m \u001b[1m0s\u001b[0m 1s/step - accuracy: 0.7351 - loss: 0.7269📦 에포크 1 모델 저장 완료\n",
      "\u001b[1m4594/4594\u001b[0m \u001b[32m━━━━━━━━━━━━━━━━━━━━\u001b[0m\u001b[37m\u001b[0m \u001b[1m5257s\u001b[0m 1s/step - accuracy: 0.7351 - loss: 0.7269 - val_accuracy: 0.7890 - val_loss: 0.5776 - learning_rate: 1.0000e-04\n",
      "Epoch 3/4\n",
      "\u001b[1m4594/4594\u001b[0m \u001b[32m━━━━━━━━━━━━━━━━━━━━\u001b[0m\u001b[37m\u001b[0m \u001b[1m0s\u001b[0m 921ms/step - accuracy: 0.7637 - loss: 0.6509📦 에포크 2 모델 저장 완료\n",
      "\u001b[1m4594/4594\u001b[0m \u001b[32m━━━━━━━━━━━━━━━━━━━━\u001b[0m\u001b[37m\u001b[0m \u001b[1m4736s\u001b[0m 987ms/step - accuracy: 0.7637 - loss: 0.6509 - val_accuracy: 0.8050 - val_loss: 0.5394 - learning_rate: 1.0000e-04\n",
      "Epoch 4/4\n",
      "\u001b[1m4594/4594\u001b[0m \u001b[32m━━━━━━━━━━━━━━━━━━━━\u001b[0m\u001b[37m\u001b[0m \u001b[1m0s\u001b[0m 903ms/step - accuracy: 0.7887 - loss: 0.5828📦 에포크 3 모델 저장 완료\n",
      "\u001b[1m4594/4594\u001b[0m \u001b[32m━━━━━━━━━━━━━━━━━━━━\u001b[0m\u001b[37m\u001b[0m \u001b[1m4649s\u001b[0m 968ms/step - accuracy: 0.7887 - loss: 0.5828 - val_accuracy: 0.8150 - val_loss: 0.5160 - learning_rate: 1.0000e-04\n"
     ]
    },
    {
     "data": {
      "text/plain": [
       "<keras.src.callbacks.history.History at 0x13a032d8850>"
      ]
     },
     "execution_count": 5,
     "metadata": {},
     "output_type": "execute_result"
    }
   ],
   "source": [
    "# 학습\n",
    "model.fit(\n",
    "    train_dataset,\n",
    "    validation_data=val_dataset,\n",
    "    epochs=4,\n",
    "    initial_epoch=last_epoch,\n",
    "    callbacks=[CustomCheckpoint(), early_stop, reduce_lr]\n",
    ")\n"
   ]
  },
  {
   "cell_type": "code",
   "execution_count": 8,
   "id": "423cff75-efd9-48b8-b652-b0f3ffa46e12",
   "metadata": {},
   "outputs": [],
   "source": [
    "# 테스트셋 로드 및 전처리\n",
    "test_df = pd.read_csv('./open/test.csv')\n",
    "test_df['image'] = test_df['img_path'].apply(lambda x: os.path.join('./open', x))\n",
    "\n",
    "def test_df_to_dataset(df):\n",
    "    paths = df['image'].values\n",
    "    ds = tf.data.Dataset.from_tensor_slices(paths)\n",
    "\n",
    "    def process(path):\n",
    "        image = tf.io.read_file(path)\n",
    "        image = tf.image.decode_jpeg(image, channels=3)\n",
    "        image = tf.image.resize_with_pad(image, img_size[0], img_size[1])\n",
    "        image = tf.image.convert_image_dtype(image, tf.float32)\n",
    "        return image\n",
    "\n",
    "    ds = ds.map(process, num_parallel_calls=tf.data.AUTOTUNE)\n",
    "    return ds.batch(batch_size).prefetch(tf.data.AUTOTUNE)\n",
    "\n",
    "test_dataset = test_df_to_dataset(test_df)\n",
    "\n",
    "\n",
    "# 모델 가중치 로드 (이미 되어 있으면 생략 가능)\n",
    "model.load_weights(os.path.join(checkpoint_dir, f'model_epoch_{get_last_epoch()-1}.weights.h5'))\n"
   ]
  },
  {
   "cell_type": "code",
   "execution_count": 9,
   "id": "66299ea6-da6a-44ee-a7bb-ce1472bc9496",
   "metadata": {},
   "outputs": [
    {
     "name": "stdout",
     "output_type": "stream",
     "text": [
      "\u001b[1m5938/5938\u001b[0m \u001b[32m━━━━━━━━━━━━━━━━━━━━\u001b[0m\u001b[37m\u001b[0m \u001b[1m945s\u001b[0m 159ms/step\n",
      "🎉 제출 파일 저장 완료!\n"
     ]
    }
   ],
   "source": [
    "# 예측\n",
    "preds = model.predict(test_dataset)\n",
    "pred_labels = np.argmax(preds, axis=1)\n",
    "\n",
    "# 제출 파일 저장\n",
    "submission = pd.read_csv('./open/sample_submission.csv')\n",
    "submission['rock_type'] = [idx2label[p] for p in pred_labels]\n",
    "submission.to_csv('submission_tensorflow2.csv', index=False)\n",
    "print(\"🎉 제출 파일 저장 완료!\")\n"
   ]
  },
  {
   "cell_type": "code",
   "execution_count": null,
   "id": "ffec2298-460d-4563-bf54-c633ff61f036",
   "metadata": {},
   "outputs": [],
   "source": []
  }
 ],
 "metadata": {
  "kernelspec": {
   "display_name": "Python 3 (ipykernel)",
   "language": "python",
   "name": "python3"
  },
  "language_info": {
   "codemirror_mode": {
    "name": "ipython",
    "version": 3
   },
   "file_extension": ".py",
   "mimetype": "text/x-python",
   "name": "python",
   "nbconvert_exporter": "python",
   "pygments_lexer": "ipython3",
   "version": "3.11.1"
  }
 },
 "nbformat": 4,
 "nbformat_minor": 5
}
