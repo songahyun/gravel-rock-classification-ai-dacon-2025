{
 "cells": [
  {
   "cell_type": "markdown",
   "id": "9e833ab4-34d6-4cbb-b2b3-fe00f2b418db",
   "metadata": {},
   "source": [
    "## Tensorflow EfficientNetV2B2 1번째 시도 \n",
    "### tensorflow.keras.applications"
   ]
  },
  {
   "cell_type": "code",
   "execution_count": 1,
   "id": "2381c67f-09f4-4942-b603-63bbeffdf93b",
   "metadata": {},
   "outputs": [],
   "source": [
    "import os\n",
    "import pandas as pd\n",
    "import numpy as np\n",
    "from pathlib import Path\n",
    "from sklearn.model_selection import train_test_split\n",
    "import tensorflow as tf\n",
    "from tensorflow.keras.preprocessing.image import ImageDataGenerator\n",
    "from tensorflow.keras.applications import EfficientNetV2B2\n",
    "from tensorflow.keras import layers, models, optimizers, callbacks\n",
    "\n",
    "# 설정\n",
    "train_dir = './open/train'\n",
    "batch_size = 16\n",
    "img_size = (224, 224)\n",
    "checkpoint_dir = './checkpoints'\n",
    "os.makedirs(checkpoint_dir, exist_ok=True)\n",
    "epoch_tracker_path = os.path.join(checkpoint_dir, 'epoch_tracker.txt')\n"
   ]
  },
  {
   "cell_type": "code",
   "execution_count": 2,
   "id": "d5b7e16c-f065-4b94-982e-f61d37725641",
   "metadata": {},
   "outputs": [
    {
     "name": "stderr",
     "output_type": "stream",
     "text": [
      "C:\\Users\\FOR\\AppData\\Local\\Temp\\ipykernel_18500\\2602459476.py:10: DeprecationWarning: DataFrameGroupBy.apply operated on the grouping columns. This behavior is deprecated, and in a future version of pandas the grouping columns will be excluded from the operation. Either pass `include_groups=False` to exclude the groupings or explicitly select the grouping columns after groupby to silence this warning.\n",
      "  df_balanced = df.groupby('label').apply(lambda x: x.sample(n=15000, random_state=42)).reset_index(drop=True)\n"
     ]
    }
   ],
   "source": [
    "# 라벨 인코딩\n",
    "image_paths = list(Path(train_dir).rglob('*.jpg'))\n",
    "df = pd.DataFrame({'image': [str(p) for p in image_paths]})\n",
    "df['label'] = df['image'].apply(lambda x: Path(x).parent.name)\n",
    "label2idx = {label: idx for idx, label in enumerate(sorted(df['label'].unique()))}\n",
    "idx2label = {idx: label for label, idx in label2idx.items()}\n",
    "df['label_idx'] = df['label'].map(label2idx)\n",
    "\n",
    "# 폴더당 15,000장 균형 샘플링\n",
    "df_balanced = df.groupby('label').apply(lambda x: x.sample(n=15000, random_state=42)).reset_index(drop=True)\n",
    "train_df, val_df = train_test_split(df_balanced, test_size=0.3, stratify=df_balanced['label_idx'], random_state=42)\n"
   ]
  },
  {
   "cell_type": "code",
   "execution_count": 3,
   "id": "62049afb-7ec1-4dfa-815a-4ebcea8bcd0f",
   "metadata": {},
   "outputs": [
    {
     "name": "stdout",
     "output_type": "stream",
     "text": [
      "Found 73500 validated image filenames belonging to 7 classes.\n",
      "Found 31500 validated image filenames belonging to 7 classes.\n"
     ]
    }
   ],
   "source": [
    "# 문자열로 변환\n",
    "train_df['label_idx'] = train_df['label_idx'].astype(str)\n",
    "val_df['label_idx'] = val_df['label_idx'].astype(str)\n",
    "\n",
    "# 이미지 제너레이터\n",
    "train_gen = ImageDataGenerator(rescale=1./255, horizontal_flip=True, zoom_range=0.2)\n",
    "val_gen = ImageDataGenerator(rescale=1./255)\n",
    "\n",
    "train_generator = train_gen.flow_from_dataframe(\n",
    "    train_df, x_col='image', y_col='label_idx',\n",
    "    target_size=img_size, batch_size=batch_size, class_mode='sparse')\n",
    "\n",
    "val_generator = val_gen.flow_from_dataframe(\n",
    "    val_df, x_col='image', y_col='label_idx',\n",
    "    target_size=img_size, batch_size=batch_size, class_mode='sparse')\n"
   ]
  },
  {
   "cell_type": "code",
   "execution_count": 4,
   "id": "4750de15-2a76-4ec9-a1f8-e8c41cff149c",
   "metadata": {},
   "outputs": [],
   "source": [
    "# 마지막 학습 에포크 불러오기\n",
    "def get_last_epoch():\n",
    "    if os.path.exists(epoch_tracker_path):\n",
    "        with open(epoch_tracker_path, 'r') as f:\n",
    "            return int(f.read().strip()) + 1  # 다음 에포크부터 시작\n",
    "    return 0\n",
    "\n",
    "# 모델 생성\n",
    "def build_model(num_classes):\n",
    "    base_model = EfficientNetV2B2(include_top=False, input_shape=(224, 224, 3), pooling='avg', weights='imagenet')\n",
    "    base_model.trainable = True\n",
    "\n",
    "    model = models.Sequential([\n",
    "        base_model,\n",
    "        layers.Dropout(0.3),\n",
    "        layers.Dense(num_classes, activation='softmax')\n",
    "    ])\n",
    "    model.compile(optimizer=optimizers.Adam(1e-4),\n",
    "                  loss='sparse_categorical_crossentropy',\n",
    "                  metrics=['accuracy'])\n",
    "    return model\n",
    "\n",
    "model = build_model(len(label2idx))\n"
   ]
  },
  {
   "cell_type": "code",
   "execution_count": 5,
   "id": "6bed0e7a-fdbf-4f82-96b6-bdadf18f3a14",
   "metadata": {},
   "outputs": [
    {
     "name": "stdout",
     "output_type": "stream",
     "text": [
      "✅ 이전 체크포인트 ./checkpoints\\model_epoch_7.weights.h5 불러옵니다\n"
     ]
    },
    {
     "name": "stderr",
     "output_type": "stream",
     "text": [
      "C:\\Users\\FOR\\AppData\\Local\\Programs\\Python\\Python311\\Lib\\site-packages\\keras\\src\\saving\\saving_lib.py:757: UserWarning: Skipping variable loading for optimizer 'adam', because it has 2 variables whereas the saved optimizer has 622 variables. \n",
      "  saveable.load_own_variables(weights_store.get(inner_path))\n"
     ]
    }
   ],
   "source": [
    "# 마지막 체크포인트 로드\n",
    "last_epoch = get_last_epoch()\n",
    "# ckpt_path = os.path.join(checkpoint_dir, f'model_epoch_{last_epoch-1}.h5')\n",
    "ckpt_path = os.path.join(checkpoint_dir, f'model_epoch_{last_epoch-1}.weights.h5')\n",
    "if os.path.exists(ckpt_path):\n",
    "    print(f\"✅ 이전 체크포인트 {ckpt_path} 불러옵니다\")\n",
    "    model.load_weights(ckpt_path)\n",
    "else:\n",
    "    print(\"🚀 새로 학습을 시작합니다\")\n",
    "\n",
    "# 콜백: 에포크별 저장 + 현재 에포크 기록\n",
    "class CustomCheckpoint(callbacks.Callback):\n",
    "    def on_epoch_end(self, epoch, logs=None):\n",
    "        # epoch_path = os.path.join(checkpoint_dir, f'model_epoch_{epoch}.h5')\n",
    "        epoch_path = os.path.join(checkpoint_dir, f'model_epoch_{epoch}.weights.h5')\n",
    "        self.model.save_weights(epoch_path)\n",
    "        with open(epoch_tracker_path, 'w') as f:\n",
    "            f.write(str(epoch))\n",
    "        print(f\"📦 에포크 {epoch} 모델 저장 완료\")\n"
   ]
  },
  {
   "cell_type": "code",
   "execution_count": null,
   "id": "10eecc71-0971-4ea5-b3ae-8607209420c8",
   "metadata": {},
   "outputs": [
    {
     "name": "stderr",
     "output_type": "stream",
     "text": [
      "C:\\Users\\FOR\\AppData\\Local\\Programs\\Python\\Python311\\Lib\\site-packages\\keras\\src\\trainers\\data_adapters\\py_dataset_adapter.py:121: UserWarning: Your `PyDataset` class should call `super().__init__(**kwargs)` in its constructor. `**kwargs` can include `workers`, `use_multiprocessing`, `max_queue_size`. Do not pass these arguments to `fit()`, as they will be ignored.\n",
      "  self._warn_if_super_not_called()\n"
     ]
    },
    {
     "name": "stdout",
     "output_type": "stream",
     "text": [
      "Epoch 9/20\n"
     ]
    }
   ],
   "source": [
    "model.fit(\n",
    "    train_generator,\n",
    "    validation_data=val_generator,\n",
    "    epochs=20,\n",
    "    initial_epoch=last_epoch,\n",
    "    callbacks=[CustomCheckpoint()]\n",
    ")\n"
   ]
  },
  {
   "cell_type": "code",
   "execution_count": null,
   "id": "e36e2a9d-fabb-42ab-8101-46fe25139f47",
   "metadata": {},
   "outputs": [],
   "source": [
    "# 테스트셋 로드 및 예측\n",
    "test_df = pd.read_csv('./open/test.csv')\n",
    "test_df['image'] = test_df['img_path'].apply(lambda x: os.path.join('./open', x))\n",
    "\n",
    "test_gen = ImageDataGenerator(rescale=1./255)\n",
    "test_generator = test_gen.flow_from_dataframe(\n",
    "    test_df, x_col='image', y_col=None,\n",
    "    target_size=img_size, batch_size=batch_size,\n",
    "    class_mode=None, shuffle=False)\n",
    "\n",
    "# 마지막 체크포인트 모델 로드\n",
    "model.load_weights(os.path.join(checkpoint_dir, f'model_epoch_{get_last_epoch()-1}.h5'))\n",
    "\n",
    "# 예측\n",
    "preds = model.predict(test_generator)\n",
    "pred_labels = np.argmax(preds, axis=1)\n",
    "\n",
    "# 라벨 복원 및 제출 파일 저장\n",
    "submission = pd.read_csv('./open/sample_submission.csv')\n",
    "submission['rock_type'] = [idx2label[p] for p in pred_labels]\n",
    "submission.to_csv('submission_tensorflow.csv', index=False)\n",
    "print(\"🎉 제출 파일 저장 완료!\")\n"
   ]
  },
  {
   "cell_type": "markdown",
   "id": "5a6397b4-4140-409f-9391-49d103decd75",
   "metadata": {},
   "source": [
    "# "
   ]
  },
  {
   "cell_type": "markdown",
   "id": "c3fc9d21-c163-4953-9699-442e455bef98",
   "metadata": {},
   "source": [
    "## ✅ 전체 코드"
   ]
  },
  {
   "cell_type": "raw",
   "id": "3fb9c5d9-d442-49ba-9687-55eea639d7ef",
   "metadata": {},
   "source": [
    "import os\n",
    "import pandas as pd\n",
    "import numpy as np\n",
    "from pathlib import Path\n",
    "from sklearn.model_selection import train_test_split\n",
    "import tensorflow as tf\n",
    "from tensorflow.keras.preprocessing.image import ImageDataGenerator\n",
    "from tensorflow.keras.applications import EfficientNetV2B2\n",
    "from tensorflow.keras import layers, models, optimizers, callbacks\n",
    "\n",
    "# 설정\n",
    "train_dir = './open/train'\n",
    "batch_size = 16\n",
    "img_size = (224, 224)\n",
    "checkpoint_dir = './checkpoints'\n",
    "os.makedirs(checkpoint_dir, exist_ok=True)\n",
    "epoch_tracker_path = os.path.join(checkpoint_dir, 'epoch_tracker.txt')\n",
    "\n",
    "# 라벨 인코딩\n",
    "image_paths = list(Path(train_dir).rglob('*.jpg'))\n",
    "df = pd.DataFrame({'image': [str(p) for p in image_paths]})\n",
    "df['label'] = df['image'].apply(lambda x: Path(x).parent.name)\n",
    "label2idx = {label: idx for idx, label in enumerate(sorted(df['label'].unique()))}\n",
    "idx2label = {idx: label for label, idx in label2idx.items()}\n",
    "df['label_idx'] = df['label'].map(label2idx)\n",
    "\n",
    "# 폴더당 15,000장 균형 샘플링\n",
    "df_balanced = df.groupby('label').apply(lambda x: x.sample(n=15000, random_state=42)).reset_index(drop=True)\n",
    "train_df, val_df = train_test_split(df_balanced, test_size=0.3, stratify=df_balanced['label_idx'], random_state=42)\n",
    "\n",
    "# 문자열로 변환\n",
    "train_df['label_idx'] = train_df['label_idx'].astype(str)\n",
    "val_df['label_idx'] = val_df['label_idx'].astype(str)\n",
    "\n",
    "# 이미지 제너레이터\n",
    "train_gen = ImageDataGenerator(rescale=1./255, horizontal_flip=True, zoom_range=0.2)\n",
    "val_gen = ImageDataGenerator(rescale=1./255)\n",
    "\n",
    "train_generator = train_gen.flow_from_dataframe(\n",
    "    train_df, x_col='image', y_col='label_idx',\n",
    "    target_size=img_size, batch_size=batch_size, class_mode='sparse')\n",
    "\n",
    "val_generator = val_gen.flow_from_dataframe(\n",
    "    val_df, x_col='image', y_col='label_idx',\n",
    "    target_size=img_size, batch_size=batch_size, class_mode='sparse')\n",
    "\n",
    "\n",
    "# 마지막 학습 에포크 불러오기\n",
    "def get_last_epoch():\n",
    "    if os.path.exists(epoch_tracker_path):\n",
    "        with open(epoch_tracker_path, 'r') as f:\n",
    "            return int(f.read().strip()) + 1  # 다음 에포크부터 시작\n",
    "    return 0\n",
    "\n",
    "# 모델 생성\n",
    "def build_model(num_classes):\n",
    "    base_model = EfficientNetV2B2(include_top=False, input_shape=(224, 224, 3), pooling='avg', weights='imagenet')\n",
    "    base_model.trainable = True\n",
    "\n",
    "    model = models.Sequential([\n",
    "        base_model,\n",
    "        layers.Dropout(0.3),\n",
    "        layers.Dense(num_classes, activation='softmax')\n",
    "    ])\n",
    "    model.compile(optimizer=optimizers.Adam(1e-4),\n",
    "                  loss='sparse_categorical_crossentropy',\n",
    "                  metrics=['accuracy'])\n",
    "    return model\n",
    "\n",
    "model = build_model(len(label2idx))\n",
    "\n",
    "# 마지막 체크포인트 로드\n",
    "last_epoch = get_last_epoch()\n",
    "# ckpt_path = os.path.join(checkpoint_dir, f'model_epoch_{last_epoch-1}.h5')\n",
    "ckpt_path = os.path.join(checkpoint_dir, f'model_epoch_{last_epoch-1}.weights.h5')\n",
    "if os.path.exists(ckpt_path):\n",
    "    print(f\"✅ 이전 체크포인트 {ckpt_path} 불러옵니다\")\n",
    "    model.load_weights(ckpt_path)\n",
    "else:\n",
    "    print(\"🚀 새로 학습을 시작합니다\")\n",
    "\n",
    "# 콜백: 에포크별 저장 + 현재 에포크 기록\n",
    "class CustomCheckpoint(callbacks.Callback):\n",
    "    def on_epoch_end(self, epoch, logs=None):\n",
    "        # epoch_path = os.path.join(checkpoint_dir, f'model_epoch_{epoch}.h5')\n",
    "        epoch_path = os.path.join(checkpoint_dir, f'model_epoch_{epoch}.weights.h5')\n",
    "        self.model.save_weights(epoch_path)\n",
    "        with open(epoch_tracker_path, 'w') as f:\n",
    "            f.write(str(epoch))\n",
    "        print(f\"📦 에포크 {epoch} 모델 저장 완료\")\n",
    "\n",
    "model.fit(\n",
    "    train_generator,\n",
    "    validation_data=val_generator,\n",
    "    epochs=20,\n",
    "    initial_epoch=last_epoch,\n",
    "    callbacks=[CustomCheckpoint()]\n",
    ")\n",
    "\n",
    "# 테스트셋 로드 및 예측\n",
    "test_df = pd.read_csv('./open/test.csv')\n",
    "test_df['image'] = test_df['img_path'].apply(lambda x: os.path.join('./open', x))\n",
    "\n",
    "test_gen = ImageDataGenerator(rescale=1./255)\n",
    "test_generator = test_gen.flow_from_dataframe(\n",
    "    test_df, x_col='image', y_col=None,\n",
    "    target_size=img_size, batch_size=batch_size,\n",
    "    class_mode=None, shuffle=False)\n",
    "\n",
    "# 마지막 체크포인트 모델 로드\n",
    "model.load_weights(os.path.join(checkpoint_dir, f'model_epoch_{get_last_epoch()-1}.h5'))\n",
    "\n",
    "# 예측\n",
    "preds = model.predict(test_generator)\n",
    "pred_labels = np.argmax(preds, axis=1)\n",
    "\n",
    "# 라벨 복원 및 제출 파일 저장\n",
    "submission = pd.read_csv('./open/sample_submission.csv')\n",
    "submission['rock_type'] = [idx2label[p] for p in pred_labels]\n",
    "submission.to_csv('submission_tensorflow.csv', index=False)\n",
    "print(\"🎉 제출 파일 저장 완료!\")\n"
   ]
  },
  {
   "cell_type": "markdown",
   "id": "3712127f-8b30-43a7-ae27-039043f9bd8f",
   "metadata": {},
   "source": [
    "# "
   ]
  }
 ],
 "metadata": {
  "kernelspec": {
   "display_name": "Python 3 (ipykernel)",
   "language": "python",
   "name": "python3"
  },
  "language_info": {
   "codemirror_mode": {
    "name": "ipython",
    "version": 3
   },
   "file_extension": ".py",
   "mimetype": "text/x-python",
   "name": "python",
   "nbconvert_exporter": "python",
   "pygments_lexer": "ipython3",
   "version": "3.11.1"
  }
 },
 "nbformat": 4,
 "nbformat_minor": 5
}
