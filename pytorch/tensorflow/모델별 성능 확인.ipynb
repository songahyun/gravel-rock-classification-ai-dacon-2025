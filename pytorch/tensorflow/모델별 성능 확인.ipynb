{
 "cells": [
  {
   "cell_type": "code",
   "execution_count": 1,
   "id": "340e89c9-2b34-427f-b6f1-8bc9cf088322",
   "metadata": {},
   "outputs": [],
   "source": [
    "import tensorflow as tf\n",
    "from tensorflow.keras.layers import GlobalAveragePooling2D, Dense, Dropout\n",
    "from tensorflow.keras.models import Model\n",
    "from tensorflow.keras.preprocessing.image import ImageDataGenerator\n",
    "from tensorflow.keras.callbacks import EarlyStopping\n",
    "import pandas as pd\n",
    "import os\n",
    "import random\n",
    "from tqdm.keras import TqdmCallback\n",
    "\n",
    "# 설정\n",
    "IMAGE_SIZE = 160   # 줄임\n",
    "BATCH_SIZE = 32\n",
    "EPOCHS = 3       # 에포크는 유지, 얼리스톱핑으로 조절\n",
    "NUM_CLASSES = 7\n",
    "train_dir = './open/train'\n",
    "\n",
    "# 데이터프레임 기반 구성 (샘플링 10000장으로 제한)\n",
    "all_data = []\n",
    "for class_name in sorted(os.listdir(train_dir)):\n",
    "    class_path = os.path.join(train_dir, class_name)\n",
    "    if os.path.isdir(class_path):\n",
    "        images = os.listdir(class_path)\n",
    "        images = [img for img in images if img.lower().endswith('.jpg')]\n",
    "        sampled_images = random.sample(images, min(10000, len(images)))\n",
    "        for img in sampled_images:\n",
    "            all_data.append({'filename': os.path.join(class_path, img), 'class': class_name})\n",
    "\n",
    "df = pd.DataFrame(all_data)\n",
    "df = df.sample(frac=1).reset_index(drop=True)\n",
    "\n",
    "from sklearn.model_selection import train_test_split\n",
    "train_df, val_df = train_test_split(df, test_size=0.2, stratify=df['class'], random_state=42)\n"
   ]
  },
  {
   "cell_type": "code",
   "execution_count": 2,
   "id": "1d629bed-4842-4556-9f70-0711b1457f26",
   "metadata": {},
   "outputs": [
    {
     "name": "stdout",
     "output_type": "stream",
     "text": [
      "Found 56000 validated image filenames belonging to 7 classes.\n",
      "Found 14000 validated image filenames belonging to 7 classes.\n"
     ]
    }
   ],
   "source": [
    "# ImageDataGenerator (augmentation 최소화, validation_split 제거)\n",
    "train_datagen = ImageDataGenerator(\n",
    "    rescale=1./255,\n",
    "    horizontal_flip=True,\n",
    "    rotation_range=10,   # 줄임\n",
    "    zoom_range=0.1,      # 줄임\n",
    "    width_shift_range=0.05,\n",
    "    height_shift_range=0.05\n",
    ")\n",
    "\n",
    "val_datagen = ImageDataGenerator(rescale=1./255)\n",
    "\n",
    "# flow_from_dataframe 사용 (이미지 경로와 라벨 직접 지정 가능)\n",
    "train_gen = train_datagen.flow_from_dataframe(\n",
    "    train_df,\n",
    "    x_col='filename',\n",
    "    y_col='class',\n",
    "    target_size=(IMAGE_SIZE, IMAGE_SIZE),\n",
    "    batch_size=BATCH_SIZE,\n",
    "    class_mode='categorical',\n",
    "    shuffle=True\n",
    ")\n",
    "\n",
    "val_gen = val_datagen.flow_from_dataframe(\n",
    "    val_df,\n",
    "    x_col='filename',\n",
    "    y_col='class',\n",
    "    target_size=(IMAGE_SIZE, IMAGE_SIZE),\n",
    "    batch_size=BATCH_SIZE,\n",
    "    class_mode='categorical',\n",
    "    shuffle=False\n",
    ")\n"
   ]
  },
  {
   "cell_type": "code",
   "execution_count": 3,
   "id": "77f3f2b3-7bcc-4368-9534-2e3c2d813a89",
   "metadata": {},
   "outputs": [],
   "source": [
    "# 모델 딕셔너리\n",
    "model_classes = {\n",
    "    'MobileNetV3Small': tf.keras.applications.MobileNetV3Small,\n",
    "    'MobileNetV2': tf.keras.applications.MobileNetV2,\n",
    "    'EfficientNetV2B0': tf.keras.applications.EfficientNetV2B0,\n",
    "    'NASNetMobile': tf.keras.applications.NASNetMobile\n",
    "}\n",
    "\n",
    "def build_model(base_model_class):\n",
    "    base = base_model_class(include_top=False, input_shape=(IMAGE_SIZE, IMAGE_SIZE, 3), weights='imagenet')\n",
    "    x = GlobalAveragePooling2D()(base.output)\n",
    "    x = Dropout(0.3)(x)\n",
    "    output = Dense(NUM_CLASSES, activation='softmax')(x)\n",
    "    model = Model(base.input, output)\n",
    "    model.compile(optimizer='adam', loss='categorical_crossentropy', metrics=['accuracy'])\n",
    "    return model\n",
    "\n",
    "early_stop = EarlyStopping(monitor='val_loss', patience=3, restore_best_weights=True, verbose=1)\n"
   ]
  },
  {
   "cell_type": "code",
   "execution_count": 4,
   "id": "e5659e63-fe54-4a57-8c0f-1fdf05d2e67d",
   "metadata": {},
   "outputs": [
    {
     "name": "stdout",
     "output_type": "stream",
     "text": [
      "\n",
      "▶ Training MobileNetV3Small ...\n"
     ]
    },
    {
     "name": "stderr",
     "output_type": "stream",
     "text": [
      "C:\\Users\\FOR\\AppData\\Local\\Programs\\Python\\Python311\\Lib\\site-packages\\keras\\src\\applications\\mobilenet_v3.py:452: UserWarning: `input_shape` is undefined or non-square, or `rows` is not 224. Weights for input shape (224, 224) will be loaded as the default.\n",
      "  return MobileNetV3(\n"
     ]
    },
    {
     "data": {
      "application/vnd.jupyter.widget-view+json": {
       "model_id": "c30aecd0ced242ffa192737dc428d9f1",
       "version_major": 2,
       "version_minor": 0
      },
      "text/plain": [
       "0epoch [00:00, ?epoch/s]"
      ]
     },
     "metadata": {},
     "output_type": "display_data"
    },
    {
     "data": {
      "application/vnd.jupyter.widget-view+json": {
       "model_id": "19cf8dd9e37d4b938d859542ede6d7e4",
       "version_major": 2,
       "version_minor": 0
      },
      "text/plain": [
       "0batch [00:00, ?batch/s]"
      ]
     },
     "metadata": {},
     "output_type": "display_data"
    },
    {
     "name": "stderr",
     "output_type": "stream",
     "text": [
      "C:\\Users\\FOR\\AppData\\Local\\Programs\\Python\\Python311\\Lib\\site-packages\\keras\\src\\trainers\\data_adapters\\py_dataset_adapter.py:121: UserWarning: Your `PyDataset` class should call `super().__init__(**kwargs)` in its constructor. `**kwargs` can include `workers`, `use_multiprocessing`, `max_queue_size`. Do not pass these arguments to `fit()`, as they will be ignored.\n",
      "  self._warn_if_super_not_called()\n"
     ]
    },
    {
     "name": "stdout",
     "output_type": "stream",
     "text": [
      "Restoring model weights from the end of the best epoch: 1.\n",
      "MobileNetV3Small validation accuracy: 0.1429\n",
      "\n",
      "▶ Training MobileNetV2 ...\n",
      "Downloading data from https://storage.googleapis.com/tensorflow/keras-applications/mobilenet_v2/mobilenet_v2_weights_tf_dim_ordering_tf_kernels_1.0_160_no_top.h5\n",
      "\u001b[1m9406464/9406464\u001b[0m \u001b[32m━━━━━━━━━━━━━━━━━━━━\u001b[0m\u001b[37m\u001b[0m \u001b[1m1s\u001b[0m 0us/step\n"
     ]
    },
    {
     "data": {
      "application/vnd.jupyter.widget-view+json": {
       "model_id": "f8dd36a7e6664b1d8f7b02e9e34baee1",
       "version_major": 2,
       "version_minor": 0
      },
      "text/plain": [
       "0epoch [00:00, ?epoch/s]"
      ]
     },
     "metadata": {},
     "output_type": "display_data"
    },
    {
     "data": {
      "application/vnd.jupyter.widget-view+json": {
       "model_id": "d248605f979f472999f4fb4a01b264be",
       "version_major": 2,
       "version_minor": 0
      },
      "text/plain": [
       "0batch [00:00, ?batch/s]"
      ]
     },
     "metadata": {},
     "output_type": "display_data"
    },
    {
     "name": "stdout",
     "output_type": "stream",
     "text": [
      "Restoring model weights from the end of the best epoch: 3.\n",
      "MobileNetV2 validation accuracy: 0.5024\n",
      "\n",
      "▶ Training EfficientNetV2B0 ...\n"
     ]
    },
    {
     "data": {
      "application/vnd.jupyter.widget-view+json": {
       "model_id": "97973fc0549e435ca6bfe4a24ca5f2e6",
       "version_major": 2,
       "version_minor": 0
      },
      "text/plain": [
       "0epoch [00:00, ?epoch/s]"
      ]
     },
     "metadata": {},
     "output_type": "display_data"
    },
    {
     "data": {
      "application/vnd.jupyter.widget-view+json": {
       "model_id": "18688bdf8e534669a0fe673abebf84cf",
       "version_major": 2,
       "version_minor": 0
      },
      "text/plain": [
       "0batch [00:00, ?batch/s]"
      ]
     },
     "metadata": {},
     "output_type": "display_data"
    },
    {
     "name": "stdout",
     "output_type": "stream",
     "text": [
      "Restoring model weights from the end of the best epoch: 1.\n",
      "EfficientNetV2B0 validation accuracy: 0.1429\n",
      "\n",
      "▶ Training NASNetMobile ...\n",
      "Downloading data from https://storage.googleapis.com/tensorflow/keras-applications/nasnet/NASNet-mobile-no-top.h5\n",
      "\u001b[1m19993432/19993432\u001b[0m \u001b[32m━━━━━━━━━━━━━━━━━━━━\u001b[0m\u001b[37m\u001b[0m \u001b[1m2s\u001b[0m 0us/step\n"
     ]
    },
    {
     "data": {
      "application/vnd.jupyter.widget-view+json": {
       "model_id": "85c61d3099334e33a47255ca50af1c32",
       "version_major": 2,
       "version_minor": 0
      },
      "text/plain": [
       "0epoch [00:00, ?epoch/s]"
      ]
     },
     "metadata": {},
     "output_type": "display_data"
    },
    {
     "data": {
      "application/vnd.jupyter.widget-view+json": {
       "model_id": "27f5261d015048db8c04c2d958ee86ba",
       "version_major": 2,
       "version_minor": 0
      },
      "text/plain": [
       "0batch [00:00, ?batch/s]"
      ]
     },
     "metadata": {},
     "output_type": "display_data"
    },
    {
     "name": "stdout",
     "output_type": "stream",
     "text": [
      "Restoring model weights from the end of the best epoch: 2.\n",
      "NASNetMobile validation accuracy: 0.1967\n",
      "\n",
      "📊 Final Validation Accuracy Results:\n",
      "MobileNetV3Small: 0.1429\n",
      "MobileNetV2: 0.5024\n",
      "EfficientNetV2B0: 0.1429\n",
      "NASNetMobile: 0.1967\n"
     ]
    }
   ],
   "source": [
    "results = {}\n",
    "\n",
    "for name, model_class in model_classes.items():\n",
    "    print(f\"\\n▶ Training {name} ...\")\n",
    "    model = build_model(model_class)\n",
    "    model.fit(\n",
    "        train_gen,\n",
    "        validation_data=val_gen,\n",
    "        epochs=EPOCHS,\n",
    "        verbose=0,              # tqdm 콜백 쓸 때는 0으로\n",
    "        callbacks=[TqdmCallback(verbose=1), early_stop]\n",
    "    )\n",
    "    loss, acc = model.evaluate(val_gen, verbose=0)\n",
    "    results[name] = acc\n",
    "    print(f\"{name} validation accuracy: {acc:.4f}\")\n",
    "\n",
    "print(\"\\n📊 Final Validation Accuracy Results:\")\n",
    "for k, v in results.items():\n",
    "    print(f\"{k}: {v:.4f}\")\n",
    "    "
   ]
  }
 ],
 "metadata": {
  "kernelspec": {
   "display_name": "Python 3 (ipykernel)",
   "language": "python",
   "name": "python3"
  },
  "language_info": {
   "codemirror_mode": {
    "name": "ipython",
    "version": 3
   },
   "file_extension": ".py",
   "mimetype": "text/x-python",
   "name": "python",
   "nbconvert_exporter": "python",
   "pygments_lexer": "ipython3",
   "version": "3.11.1"
  }
 },
 "nbformat": 4,
 "nbformat_minor": 5
}
